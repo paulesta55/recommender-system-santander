{
 "cells": [
  {
   "cell_type": "markdown",
   "metadata": {
    "_cell_guid": "43de0fd2-4d3f-c80e-4f35-e3a89ce9d71f"
   },
   "source": [
    "# Detailed Data Cleaning/Visualization\n",
    "\n",
    "*A blog post about the final end-to-end solution (21st place) is available [here](http://alanpryorjr.com), and the source code is [on my github](https://github.com/apryor6/Kaggle-Competition-Santander)*\n",
    "\n",
    "*This is a Python version of a kernel I wrote in R for this dataset found [here](https://www.kaggle.com/apryor6/santander-product-recommendation/detailed-cleaning-visualization). There are some slight differences between how missing values are treated in Python and R, so the two kernels are not exactly the same, but I have tried to make them as similar as possible. This was done as a convenience to anybody who wanted to use my cleaned data as a starting point but prefers Python to R. It also is educational to compare how the same task can be accomplished in either language.*\n",
    "\n",
    "The goal of this competition is to predict which new Santander products, if any, a customer will purchase in the following month. Here, I will do some data cleaning, adjust some features, and do some visualization to get a sense of what features might be important predictors. I won't be building a predictive model in this kernel, but I hope this gives you some insight/ideas and gets you excited to build your own model.\n",
    "\n",
    "Let's get to it\n",
    "\n",
    "## First Glance\n",
    "Limit the number of rows read in to avoid memory crashes with the kernel"
   ]
  },
  {
   "cell_type": "code",
   "execution_count": 1,
   "metadata": {
    "_cell_guid": "85ebf22f-2673-cf92-99f2-f0024d3d7983"
   },
   "outputs": [
    {
     "name": "stdout",
     "output_type": "stream",
     "text": [
      "Populating the interactive namespace from numpy and matplotlib\n"
     ]
    }
   ],
   "source": [
    "import numpy as np\n",
    "import pandas as pd\n",
    "import seaborn as sns\n",
    "import matplotlib.pyplot as plt\n",
    "%pylab inline\n",
    "pylab.rcParams['figure.figsize'] = (10, 6)"
   ]
  },
  {
   "cell_type": "code",
   "execution_count": 2,
   "metadata": {
    "_cell_guid": "a833c896-c0a7-86b1-dff7-cdf3325cebfb"
   },
   "outputs": [
    {
     "name": "stderr",
     "output_type": "stream",
     "text": [
      "D:\\Anaconda\\envs\\santander\\lib\\site-packages\\IPython\\core\\interactiveshell.py:3062: DtypeWarning: Columns (11,15) have mixed types.Specify dtype option on import or set low_memory=False.\n",
      "  has_raised = await self.run_ast_nodes(code_ast.body, cell_name,\n"
     ]
    },
    {
     "data": {
      "text/html": [
       "<div>\n",
       "<style scoped>\n",
       "    .dataframe tbody tr th:only-of-type {\n",
       "        vertical-align: middle;\n",
       "    }\n",
       "\n",
       "    .dataframe tbody tr th {\n",
       "        vertical-align: top;\n",
       "    }\n",
       "\n",
       "    .dataframe thead th {\n",
       "        text-align: right;\n",
       "    }\n",
       "</style>\n",
       "<table border=\"1\" class=\"dataframe\">\n",
       "  <thead>\n",
       "    <tr style=\"text-align: right;\">\n",
       "      <th></th>\n",
       "      <th>ncodpers</th>\n",
       "      <th>age</th>\n",
       "      <th>antiguedad</th>\n",
       "      <th>indrel</th>\n",
       "      <th>tipodom</th>\n",
       "      <th>cod_prov</th>\n",
       "      <th>ind_actividad_cliente</th>\n",
       "      <th>renta</th>\n",
       "      <th>ind_ahor_fin_ult1</th>\n",
       "      <th>ind_aval_fin_ult1</th>\n",
       "      <th>...</th>\n",
       "      <th>ind_hip_fin_ult1</th>\n",
       "      <th>ind_plan_fin_ult1</th>\n",
       "      <th>ind_pres_fin_ult1</th>\n",
       "      <th>ind_reca_fin_ult1</th>\n",
       "      <th>ind_tjcr_fin_ult1</th>\n",
       "      <th>ind_valo_fin_ult1</th>\n",
       "      <th>ind_viv_fin_ult1</th>\n",
       "      <th>ind_nomina_ult1</th>\n",
       "      <th>ind_nom_pens_ult1</th>\n",
       "      <th>ind_recibo_ult1</th>\n",
       "    </tr>\n",
       "  </thead>\n",
       "  <tbody>\n",
       "    <tr>\n",
       "      <th>count</th>\n",
       "      <td>1.859727e+06</td>\n",
       "      <td>1.859727e+06</td>\n",
       "      <td>1.859727e+06</td>\n",
       "      <td>1.859727e+06</td>\n",
       "      <td>1859727.0</td>\n",
       "      <td>1.851745e+06</td>\n",
       "      <td>1.859727e+06</td>\n",
       "      <td>1.405454e+06</td>\n",
       "      <td>1.859727e+06</td>\n",
       "      <td>1.859727e+06</td>\n",
       "      <td>...</td>\n",
       "      <td>1.859727e+06</td>\n",
       "      <td>1.859727e+06</td>\n",
       "      <td>1.859727e+06</td>\n",
       "      <td>1.859727e+06</td>\n",
       "      <td>1.859727e+06</td>\n",
       "      <td>1.859727e+06</td>\n",
       "      <td>1.859727e+06</td>\n",
       "      <td>1.859727e+06</td>\n",
       "      <td>1.859727e+06</td>\n",
       "      <td>1.859727e+06</td>\n",
       "    </tr>\n",
       "    <tr>\n",
       "      <th>mean</th>\n",
       "      <td>8.787559e+05</td>\n",
       "      <td>4.012575e+01</td>\n",
       "      <td>7.630108e+01</td>\n",
       "      <td>1.182222e+00</td>\n",
       "      <td>1.0</td>\n",
       "      <td>2.654611e+01</td>\n",
       "      <td>4.249021e-01</td>\n",
       "      <td>1.340906e+05</td>\n",
       "      <td>8.334557e-05</td>\n",
       "      <td>1.720683e-05</td>\n",
       "      <td>...</td>\n",
       "      <td>4.878135e-03</td>\n",
       "      <td>7.917291e-03</td>\n",
       "      <td>2.139024e-03</td>\n",
       "      <td>4.882975e-02</td>\n",
       "      <td>3.744044e-02</td>\n",
       "      <td>2.302005e-02</td>\n",
       "      <td>3.183801e-03</td>\n",
       "      <td>5.079133e-02</td>\n",
       "      <td>5.566408e-02</td>\n",
       "      <td>1.208769e-01</td>\n",
       "    </tr>\n",
       "    <tr>\n",
       "      <th>std</th>\n",
       "      <td>4.477939e+05</td>\n",
       "      <td>1.719302e+01</td>\n",
       "      <td>1.797581e+03</td>\n",
       "      <td>4.221919e+00</td>\n",
       "      <td>0.0</td>\n",
       "      <td>1.283624e+01</td>\n",
       "      <td>4.943283e-01</td>\n",
       "      <td>2.321840e+05</td>\n",
       "      <td>9.129001e-03</td>\n",
       "      <td>4.148077e-03</td>\n",
       "      <td>...</td>\n",
       "      <td>6.967311e-02</td>\n",
       "      <td>8.862625e-02</td>\n",
       "      <td>4.620010e-02</td>\n",
       "      <td>2.155120e-01</td>\n",
       "      <td>1.898385e-01</td>\n",
       "      <td>1.499671e-01</td>\n",
       "      <td>5.633530e-02</td>\n",
       "      <td>2.195714e-01</td>\n",
       "      <td>2.292719e-01</td>\n",
       "      <td>3.259842e-01</td>\n",
       "    </tr>\n",
       "    <tr>\n",
       "      <th>min</th>\n",
       "      <td>1.588900e+04</td>\n",
       "      <td>2.000000e+00</td>\n",
       "      <td>-9.999990e+05</td>\n",
       "      <td>1.000000e+00</td>\n",
       "      <td>1.0</td>\n",
       "      <td>1.000000e+00</td>\n",
       "      <td>0.000000e+00</td>\n",
       "      <td>1.202730e+03</td>\n",
       "      <td>0.000000e+00</td>\n",
       "      <td>0.000000e+00</td>\n",
       "      <td>...</td>\n",
       "      <td>0.000000e+00</td>\n",
       "      <td>0.000000e+00</td>\n",
       "      <td>0.000000e+00</td>\n",
       "      <td>0.000000e+00</td>\n",
       "      <td>0.000000e+00</td>\n",
       "      <td>0.000000e+00</td>\n",
       "      <td>0.000000e+00</td>\n",
       "      <td>0.000000e+00</td>\n",
       "      <td>0.000000e+00</td>\n",
       "      <td>0.000000e+00</td>\n",
       "    </tr>\n",
       "    <tr>\n",
       "      <th>25%</th>\n",
       "      <td>4.829905e+05</td>\n",
       "      <td>2.500000e+01</td>\n",
       "      <td>2.200000e+01</td>\n",
       "      <td>1.000000e+00</td>\n",
       "      <td>1.0</td>\n",
       "      <td>1.500000e+01</td>\n",
       "      <td>0.000000e+00</td>\n",
       "      <td>6.849459e+04</td>\n",
       "      <td>0.000000e+00</td>\n",
       "      <td>0.000000e+00</td>\n",
       "      <td>...</td>\n",
       "      <td>0.000000e+00</td>\n",
       "      <td>0.000000e+00</td>\n",
       "      <td>0.000000e+00</td>\n",
       "      <td>0.000000e+00</td>\n",
       "      <td>0.000000e+00</td>\n",
       "      <td>0.000000e+00</td>\n",
       "      <td>0.000000e+00</td>\n",
       "      <td>0.000000e+00</td>\n",
       "      <td>0.000000e+00</td>\n",
       "      <td>0.000000e+00</td>\n",
       "    </tr>\n",
       "    <tr>\n",
       "      <th>50%</th>\n",
       "      <td>9.658240e+05</td>\n",
       "      <td>3.800000e+01</td>\n",
       "      <td>5.300000e+01</td>\n",
       "      <td>1.000000e+00</td>\n",
       "      <td>1.0</td>\n",
       "      <td>2.800000e+01</td>\n",
       "      <td>0.000000e+00</td>\n",
       "      <td>1.014958e+05</td>\n",
       "      <td>0.000000e+00</td>\n",
       "      <td>0.000000e+00</td>\n",
       "      <td>...</td>\n",
       "      <td>0.000000e+00</td>\n",
       "      <td>0.000000e+00</td>\n",
       "      <td>0.000000e+00</td>\n",
       "      <td>0.000000e+00</td>\n",
       "      <td>0.000000e+00</td>\n",
       "      <td>0.000000e+00</td>\n",
       "      <td>0.000000e+00</td>\n",
       "      <td>0.000000e+00</td>\n",
       "      <td>0.000000e+00</td>\n",
       "      <td>0.000000e+00</td>\n",
       "    </tr>\n",
       "    <tr>\n",
       "      <th>75%</th>\n",
       "      <td>1.263239e+06</td>\n",
       "      <td>5.000000e+01</td>\n",
       "      <td>1.340000e+02</td>\n",
       "      <td>1.000000e+00</td>\n",
       "      <td>1.0</td>\n",
       "      <td>3.500000e+01</td>\n",
       "      <td>1.000000e+00</td>\n",
       "      <td>1.555430e+05</td>\n",
       "      <td>0.000000e+00</td>\n",
       "      <td>0.000000e+00</td>\n",
       "      <td>...</td>\n",
       "      <td>0.000000e+00</td>\n",
       "      <td>0.000000e+00</td>\n",
       "      <td>0.000000e+00</td>\n",
       "      <td>0.000000e+00</td>\n",
       "      <td>0.000000e+00</td>\n",
       "      <td>0.000000e+00</td>\n",
       "      <td>0.000000e+00</td>\n",
       "      <td>0.000000e+00</td>\n",
       "      <td>0.000000e+00</td>\n",
       "      <td>0.000000e+00</td>\n",
       "    </tr>\n",
       "    <tr>\n",
       "      <th>max</th>\n",
       "      <td>1.553689e+06</td>\n",
       "      <td>1.640000e+02</td>\n",
       "      <td>2.560000e+02</td>\n",
       "      <td>9.900000e+01</td>\n",
       "      <td>1.0</td>\n",
       "      <td>5.200000e+01</td>\n",
       "      <td>1.000000e+00</td>\n",
       "      <td>2.889440e+07</td>\n",
       "      <td>1.000000e+00</td>\n",
       "      <td>1.000000e+00</td>\n",
       "      <td>...</td>\n",
       "      <td>1.000000e+00</td>\n",
       "      <td>1.000000e+00</td>\n",
       "      <td>1.000000e+00</td>\n",
       "      <td>1.000000e+00</td>\n",
       "      <td>1.000000e+00</td>\n",
       "      <td>1.000000e+00</td>\n",
       "      <td>1.000000e+00</td>\n",
       "      <td>1.000000e+00</td>\n",
       "      <td>1.000000e+00</td>\n",
       "      <td>1.000000e+00</td>\n",
       "    </tr>\n",
       "  </tbody>\n",
       "</table>\n",
       "<p>8 rows × 32 columns</p>\n",
       "</div>"
      ],
      "text/plain": [
       "           ncodpers           age    antiguedad        indrel    tipodom  \\\n",
       "count  1.859727e+06  1.859727e+06  1.859727e+06  1.859727e+06  1859727.0   \n",
       "mean   8.787559e+05  4.012575e+01  7.630108e+01  1.182222e+00        1.0   \n",
       "std    4.477939e+05  1.719302e+01  1.797581e+03  4.221919e+00        0.0   \n",
       "min    1.588900e+04  2.000000e+00 -9.999990e+05  1.000000e+00        1.0   \n",
       "25%    4.829905e+05  2.500000e+01  2.200000e+01  1.000000e+00        1.0   \n",
       "50%    9.658240e+05  3.800000e+01  5.300000e+01  1.000000e+00        1.0   \n",
       "75%    1.263239e+06  5.000000e+01  1.340000e+02  1.000000e+00        1.0   \n",
       "max    1.553689e+06  1.640000e+02  2.560000e+02  9.900000e+01        1.0   \n",
       "\n",
       "           cod_prov  ind_actividad_cliente         renta  ind_ahor_fin_ult1  \\\n",
       "count  1.851745e+06           1.859727e+06  1.405454e+06       1.859727e+06   \n",
       "mean   2.654611e+01           4.249021e-01  1.340906e+05       8.334557e-05   \n",
       "std    1.283624e+01           4.943283e-01  2.321840e+05       9.129001e-03   \n",
       "min    1.000000e+00           0.000000e+00  1.202730e+03       0.000000e+00   \n",
       "25%    1.500000e+01           0.000000e+00  6.849459e+04       0.000000e+00   \n",
       "50%    2.800000e+01           0.000000e+00  1.014958e+05       0.000000e+00   \n",
       "75%    3.500000e+01           1.000000e+00  1.555430e+05       0.000000e+00   \n",
       "max    5.200000e+01           1.000000e+00  2.889440e+07       1.000000e+00   \n",
       "\n",
       "       ind_aval_fin_ult1  ...  ind_hip_fin_ult1  ind_plan_fin_ult1  \\\n",
       "count       1.859727e+06  ...      1.859727e+06       1.859727e+06   \n",
       "mean        1.720683e-05  ...      4.878135e-03       7.917291e-03   \n",
       "std         4.148077e-03  ...      6.967311e-02       8.862625e-02   \n",
       "min         0.000000e+00  ...      0.000000e+00       0.000000e+00   \n",
       "25%         0.000000e+00  ...      0.000000e+00       0.000000e+00   \n",
       "50%         0.000000e+00  ...      0.000000e+00       0.000000e+00   \n",
       "75%         0.000000e+00  ...      0.000000e+00       0.000000e+00   \n",
       "max         1.000000e+00  ...      1.000000e+00       1.000000e+00   \n",
       "\n",
       "       ind_pres_fin_ult1  ind_reca_fin_ult1  ind_tjcr_fin_ult1  \\\n",
       "count       1.859727e+06       1.859727e+06       1.859727e+06   \n",
       "mean        2.139024e-03       4.882975e-02       3.744044e-02   \n",
       "std         4.620010e-02       2.155120e-01       1.898385e-01   \n",
       "min         0.000000e+00       0.000000e+00       0.000000e+00   \n",
       "25%         0.000000e+00       0.000000e+00       0.000000e+00   \n",
       "50%         0.000000e+00       0.000000e+00       0.000000e+00   \n",
       "75%         0.000000e+00       0.000000e+00       0.000000e+00   \n",
       "max         1.000000e+00       1.000000e+00       1.000000e+00   \n",
       "\n",
       "       ind_valo_fin_ult1  ind_viv_fin_ult1  ind_nomina_ult1  \\\n",
       "count       1.859727e+06      1.859727e+06     1.859727e+06   \n",
       "mean        2.302005e-02      3.183801e-03     5.079133e-02   \n",
       "std         1.499671e-01      5.633530e-02     2.195714e-01   \n",
       "min         0.000000e+00      0.000000e+00     0.000000e+00   \n",
       "25%         0.000000e+00      0.000000e+00     0.000000e+00   \n",
       "50%         0.000000e+00      0.000000e+00     0.000000e+00   \n",
       "75%         0.000000e+00      0.000000e+00     0.000000e+00   \n",
       "max         1.000000e+00      1.000000e+00     1.000000e+00   \n",
       "\n",
       "       ind_nom_pens_ult1  ind_recibo_ult1  \n",
       "count       1.859727e+06     1.859727e+06  \n",
       "mean        5.566408e-02     1.208769e-01  \n",
       "std         2.292719e-01     3.259842e-01  \n",
       "min         0.000000e+00     0.000000e+00  \n",
       "25%         0.000000e+00     0.000000e+00  \n",
       "50%         0.000000e+00     0.000000e+00  \n",
       "75%         0.000000e+00     0.000000e+00  \n",
       "max         1.000000e+00     1.000000e+00  \n",
       "\n",
       "[8 rows x 32 columns]"
      ]
     },
     "execution_count": 2,
     "metadata": {},
     "output_type": "execute_result"
    }
   ],
   "source": [
    "limit_rows   = 15000000\n",
    "df           = pd.read_csv(\"train_filtered.csv\",dtype={\"sexo\":str,\n",
    "                                                    \"ind_nuevo\":str,\n",
    "                                                    \"ult_fec_cli_1t\":str,\n",
    "                                                    \"indext\":str}, nrows=limit_rows)\n",
    "unique_ids   = pd.Series(df[\"ncodpers\"].unique())\n",
    "# limit_people = 10000000\n",
    "# unique_id    = unique_ids.sample(n=limit_people)\n",
    "# df           = df[df.ncodpers.isin(unique_id)]\n",
    "df.describe()"
   ]
  },
  {
   "cell_type": "markdown",
   "metadata": {
    "_cell_guid": "8d1a3836-0310-6a6f-94fc-2a9c2a4984cc"
   },
   "source": [
    "We have a number of demographics for each individual as well as the products they currently own. To make a test set, I will separate the last month from this training data, and create a feature that indicates whether or not a product was newly purchased. First convert the dates. There's `fecha_dato`, the row-identifier date, and `fecha_alta`, the date that the customer joined."
   ]
  },
  {
   "cell_type": "code",
   "execution_count": 3,
   "metadata": {
    "_cell_guid": "9dfc376a-b836-94b4-03e3-bc3740b97aa8"
   },
   "outputs": [
    {
     "data": {
      "text/plain": [
       "array(['2016-04-28T00:00:00.000000000', '2016-05-28T00:00:00.000000000'],\n",
       "      dtype='datetime64[ns]')"
      ]
     },
     "execution_count": 3,
     "metadata": {},
     "output_type": "execute_result"
    }
   ],
   "source": [
    "df[\"fecha_dato\"] = pd.to_datetime(df[\"fecha_dato\"],format=\"%Y-%m-%d\")\n",
    "df[\"fecha_alta\"] = pd.to_datetime(df[\"fecha_alta\"],format=\"%Y-%m-%d\")\n",
    "df[\"fecha_dato\"].unique()"
   ]
  },
  {
   "cell_type": "markdown",
   "metadata": {
    "_cell_guid": "5e439040-c7d7-1b7f-2954-ffb535d2bf64"
   },
   "source": [
    "I printed the values just to double check the dates were in standard Year-Month-Day format. I expect that customers will be more likely to buy products at certain months of the year (Christmas bonuses?), so let's add a month column. I don't think the month that they joined matters, so just do it for one."
   ]
  },
  {
   "cell_type": "code",
   "execution_count": 4,
   "metadata": {
    "_cell_guid": "b5e8429d-a0f3-b5a5-81d6-7e524b0a660c"
   },
   "outputs": [],
   "source": [
    "df[\"month\"] = pd.DatetimeIndex(df[\"fecha_dato\"]).month\n",
    "df[\"age\"]   = pd.to_numeric(df[\"age\"], errors=\"coerce\")"
   ]
  },
  {
   "cell_type": "markdown",
   "metadata": {
    "_cell_guid": "bdb7e954-d855-fd00-613e-1452067a8c99"
   },
   "source": [
    "Are there any columns missing values?"
   ]
  },
  {
   "cell_type": "code",
   "execution_count": 5,
   "metadata": {
    "_cell_guid": "7c2e1189-ac6b-d1bb-48a4-472c1328485d"
   },
   "outputs": [
    {
     "data": {
      "text/plain": [
       "fecha_dato               False\n",
       "ncodpers                 False\n",
       "ind_empleado             False\n",
       "pais_residencia          False\n",
       "sexo                      True\n",
       "age                      False\n",
       "fecha_alta               False\n",
       "ind_nuevo                False\n",
       "antiguedad               False\n",
       "indrel                   False\n",
       "ult_fec_cli_1t            True\n",
       "indrel_1mes               True\n",
       "tiprel_1mes               True\n",
       "indresi                  False\n",
       "indext                   False\n",
       "conyuemp                  True\n",
       "canal_entrada             True\n",
       "indfall                  False\n",
       "tipodom                  False\n",
       "cod_prov                  True\n",
       "nomprov                   True\n",
       "ind_actividad_cliente    False\n",
       "renta                     True\n",
       "segmento                  True\n",
       "ind_ahor_fin_ult1        False\n",
       "ind_aval_fin_ult1        False\n",
       "ind_cco_fin_ult1         False\n",
       "ind_cder_fin_ult1        False\n",
       "ind_cno_fin_ult1         False\n",
       "ind_ctju_fin_ult1        False\n",
       "ind_ctma_fin_ult1        False\n",
       "ind_ctop_fin_ult1        False\n",
       "ind_ctpp_fin_ult1        False\n",
       "ind_deco_fin_ult1        False\n",
       "ind_deme_fin_ult1        False\n",
       "ind_dela_fin_ult1        False\n",
       "ind_ecue_fin_ult1        False\n",
       "ind_fond_fin_ult1        False\n",
       "ind_hip_fin_ult1         False\n",
       "ind_plan_fin_ult1        False\n",
       "ind_pres_fin_ult1        False\n",
       "ind_reca_fin_ult1        False\n",
       "ind_tjcr_fin_ult1        False\n",
       "ind_valo_fin_ult1        False\n",
       "ind_viv_fin_ult1         False\n",
       "ind_nomina_ult1          False\n",
       "ind_nom_pens_ult1        False\n",
       "ind_recibo_ult1          False\n",
       "month                    False\n",
       "dtype: bool"
      ]
     },
     "execution_count": 5,
     "metadata": {},
     "output_type": "execute_result"
    }
   ],
   "source": [
    "df.isnull().any()"
   ]
  },
  {
   "cell_type": "markdown",
   "metadata": {
    "_cell_guid": "87f2316f-9b93-13c8-7f22-a11eda6c7622"
   },
   "source": [
    "Definitely. Onto data cleaning.\n",
    "\n",
    "## Data Cleaning\n",
    "\n",
    "Going down the list, start with `age`"
   ]
  },
  {
   "cell_type": "code",
   "execution_count": 6,
   "metadata": {
    "_cell_guid": "d0484da4-b8f3-a514-c441-eef972179098"
   },
   "outputs": [
    {
     "data": {
      "image/png": "[encoded data removed]",
      "text/plain": [
       "<Figure size 720x432 with 1 Axes>"
      ]
     },
     "metadata": {},
     "output_type": "display_data"
    }
   ],
   "source": [
    "with sns.plotting_context(\"notebook\",font_scale=1.5):\n",
    "    sns.set_style(\"whitegrid\")\n",
    "    sns.distplot(df[\"age\"].dropna(),\n",
    "                 bins=80,\n",
    "                 kde=False,\n",
    "                 color=\"tomato\")\n",
    "    plt.title(\"Age Distribution\")\n",
    "    plt.ylabel(\"Count\")"
   ]
  },
  {
   "cell_type": "markdown",
   "metadata": {
    "_cell_guid": "c7e2eaae-4bef-d74f-ff3f-50322caf8bd3"
   },
   "source": [
    "In addition to NA, there are people with very small and very high ages.\n",
    "It's also interesting that the distribution is bimodal. There are a large number of university aged students, and then another peak around middle-age. Let's separate the distribution and move the outliers to the mean of the closest one."
   ]
  },
  {
   "cell_type": "code",
   "execution_count": 7,
   "metadata": {
    "_cell_guid": "73e3143f-d51b-bd0a-a8cc-64178de70e4e"
   },
   "outputs": [],
   "source": [
    "df.loc[df.age < 18,\"age\"]  = df.loc[(df.age >= 18) & (df.age <= 30),\"age\"].mean(skipna=True)\n",
    "df.loc[df.age > 100,\"age\"] = df.loc[(df.age >= 30) & (df.age <= 100),\"age\"].mean(skipna=True)\n",
    "df[\"age\"].fillna(df[\"age\"].mean(),inplace=True)\n",
    "df[\"age\"]                  = df[\"age\"].astype(int)"
   ]
  },
  {
   "cell_type": "code",
   "execution_count": 8,
   "metadata": {
    "_cell_guid": "1d867605-f48a-7109-afa0-de92b2d8fbdd"
   },
   "outputs": [
    {
     "data": {
      "image/png": "[encoded data removed]",
      "text/plain": [
       "<Figure size 720x432 with 1 Axes>"
      ]
     },
     "metadata": {},
     "output_type": "display_data"
    }
   ],
   "source": [
    "with sns.plotting_context(\"notebook\",font_scale=1.5):\n",
    "    sns.set_style(\"whitegrid\")\n",
    "    sns.distplot(df[\"age\"].dropna(),\n",
    "                 bins=80,\n",
    "                 kde=False,\n",
    "                 color=\"tomato\")\n",
    "    plt.title(\"Age Distribution\")\n",
    "    plt.ylabel(\"Count\")\n",
    "    plt.xlim((15,100))"
   ]
  },
  {
   "cell_type": "markdown",
   "metadata": {
    "_cell_guid": "6028f2ab-b7d5-920d-a313-e00776856f79"
   },
   "source": [
    "Looks better.  \n",
    "\n",
    "Next `ind_nuevo`, which indicates whether a customer is new or not. How many missing values are there?"
   ]
  },
  {
   "cell_type": "code",
   "execution_count": 9,
   "metadata": {
    "_cell_guid": "72710055-5dec-fafc-c712-27475eeb965b"
   },
   "outputs": [
    {
     "data": {
      "text/plain": [
       "0"
      ]
     },
     "execution_count": 9,
     "metadata": {},
     "output_type": "execute_result"
    }
   ],
   "source": [
    "df[\"ind_nuevo\"].isnull().sum()"
   ]
  },
  {
   "cell_type": "markdown",
   "metadata": {
    "_cell_guid": "a15606ec-bf21-afd6-d5cc-20b7ac0ebc42"
   },
   "source": [
    "Let's see if we can fill in missing values by looking how many months of history these customers have."
   ]
  },
  {
   "cell_type": "code",
   "execution_count": 10,
   "metadata": {
    "_cell_guid": "e72879e7-8853-57da-5211-0bc07dc9baed"
   },
   "outputs": [
    {
     "data": {
      "text/plain": [
       "nan"
      ]
     },
     "execution_count": 10,
     "metadata": {},
     "output_type": "execute_result"
    }
   ],
   "source": [
    "months_active = df.loc[df[\"ind_nuevo\"].isnull(),:].groupby(\"ncodpers\", sort=False).size()\n",
    "months_active.max()"
   ]
  },
  {
   "cell_type": "markdown",
   "metadata": {
    "_cell_guid": "2e52e713-8002-1ddc-feff-2785f7a97578"
   },
   "source": [
    "Looks like these are all new customers, so replace accordingly."
   ]
  },
  {
   "cell_type": "code",
   "execution_count": 11,
   "metadata": {
    "_cell_guid": "672d6595-2ddc-3a34-48d8-c6f98fe3e0ef"
   },
   "outputs": [],
   "source": [
    "df.loc[df[\"ind_nuevo\"].isnull(),\"ind_nuevo\"] = 1"
   ]
  },
  {
   "cell_type": "markdown",
   "metadata": {
    "_cell_guid": "07890c58-9e34-4d1a-e6b7-b63b3ab12943"
   },
   "source": [
    "Now, `antiguedad`"
   ]
  },
  {
   "cell_type": "code",
   "execution_count": 12,
   "metadata": {
    "_cell_guid": "f5597d19-ba99-e4d6-36f7-8463b8199ff6"
   },
   "outputs": [
    {
     "data": {
      "text/plain": [
       "0"
      ]
     },
     "execution_count": 12,
     "metadata": {},
     "output_type": "execute_result"
    }
   ],
   "source": [
    "df.antiguedad = pd.to_numeric(df.antiguedad,errors=\"coerce\")\n",
    "np.sum(df[\"antiguedad\"].isnull())"
   ]
  },
  {
   "cell_type": "markdown",
   "metadata": {
    "_cell_guid": "78e8d734-464b-9ecf-3314-9cd0a8f1f28e"
   },
   "source": [
    "That number again. Probably the same people that we just determined were new customers. Double check."
   ]
  },
  {
   "cell_type": "code",
   "execution_count": 13,
   "metadata": {
    "_cell_guid": "88314fe6-4eff-7d0b-8d43-e2c1ae315965"
   },
   "outputs": [
    {
     "data": {
      "text/plain": [
       "count       0\n",
       "unique      0\n",
       "top       NaN\n",
       "freq      NaN\n",
       "Name: ind_nuevo, dtype: object"
      ]
     },
     "execution_count": 13,
     "metadata": {},
     "output_type": "execute_result"
    }
   ],
   "source": [
    "df.loc[df[\"antiguedad\"].isnull(),\"ind_nuevo\"].describe()"
   ]
  },
  {
   "cell_type": "markdown",
   "metadata": {
    "_cell_guid": "5f923230-78ca-a90b-09fa-650cbee30890"
   },
   "source": [
    "Yup, same people. Let's give them minimum seniority."
   ]
  },
  {
   "cell_type": "code",
   "execution_count": 14,
   "metadata": {
    "_cell_guid": "561ac875-a3c8-e843-caf7-aeafbc977185"
   },
   "outputs": [],
   "source": [
    "df.loc[df.antiguedad.isnull(),\"antiguedad\"] = df.antiguedad.min()\n",
    "df.loc[df.antiguedad <0, \"antiguedad\"]      = 0 # Thanks @StephenSmith for bug-find"
   ]
  },
  {
   "cell_type": "markdown",
   "metadata": {
    "_cell_guid": "00eec8e6-c8c7-5d32-aa7d-43e536368bb1"
   },
   "source": [
    "Some entries don't have the date they joined the company. Just give them something in the middle of the pack"
   ]
  },
  {
   "cell_type": "code",
   "execution_count": 15,
   "metadata": {
    "_cell_guid": "55f39399-dbb7-3b13-5393-f6ad89d4fe24"
   },
   "outputs": [
    {
     "data": {
      "text/plain": [
       "count                 1859727\n",
       "unique                   6750\n",
       "top       2014-07-28 00:00:00\n",
       "freq                     6846\n",
       "first     1995-01-16 00:00:00\n",
       "last      2016-05-31 00:00:00\n",
       "Name: fecha_alta, dtype: object"
      ]
     },
     "execution_count": 15,
     "metadata": {},
     "output_type": "execute_result"
    }
   ],
   "source": [
    "dates=df.loc[:,\"fecha_alta\"].sort_values().reset_index()\n",
    "median_date = int(np.median(dates.index.values))\n",
    "df.loc[df.fecha_alta.isnull(),\"fecha_alta\"] = dates.loc[median_date,\"fecha_alta\"]\n",
    "df[\"fecha_alta\"].describe()"
   ]
  },
  {
   "cell_type": "markdown",
   "metadata": {
    "_cell_guid": "bae7c9c5-a972-c397-4c1d-be0d06f7066e"
   },
   "source": [
    "Next is `indrel`, which indicates:\n",
    "\n",
    "> 1 (First/Primary), 99 (Primary customer during the month but not at the end of the month)\n",
    "\n",
    "This sounds like a promising feature. I'm not sure if primary status is something the customer chooses or the company assigns, but either way it seems intuitive that customers who are dropping down are likely to have different purchasing behaviors than others."
   ]
  },
  {
   "cell_type": "code",
   "execution_count": 16,
   "metadata": {
    "_cell_guid": "9286511c-1f0d-5c7a-e762-6bad69180144"
   },
   "outputs": [
    {
     "data": {
      "text/plain": [
       "1     1856269\n",
       "99       3458\n",
       "dtype: int64"
      ]
     },
     "execution_count": 16,
     "metadata": {},
     "output_type": "execute_result"
    }
   ],
   "source": [
    "pd.Series([i for i in df.indrel]).value_counts()"
   ]
  },
  {
   "cell_type": "markdown",
   "metadata": {
    "_cell_guid": "1f57156d-a8fa-6470-83b5-38b1684ca409"
   },
   "source": [
    "Fill in missing with the more common status."
   ]
  },
  {
   "cell_type": "code",
   "execution_count": 17,
   "metadata": {
    "_cell_guid": "4bd3465b-5eae-2743-5929-f5779909df2d"
   },
   "outputs": [],
   "source": [
    "df.loc[df.indrel.isnull(),\"indrel\"] = 1"
   ]
  },
  {
   "cell_type": "markdown",
   "metadata": {
    "_cell_guid": "bf47c303-22a0-36b2-cd69-4598f6210e84"
   },
   "source": [
    "> tipodom\t- Addres type. 1, primary address\n",
    " cod_prov\t- Province code (customer's address)\n",
    "\n",
    "`tipodom` doesn't seem to be useful, and the province code is not needed because the name of the province exists in `nomprov`."
   ]
  },
  {
   "cell_type": "code",
   "execution_count": 18,
   "metadata": {
    "_cell_guid": "bfbcd9e1-6e22-d742-9daf-d05a471f056a"
   },
   "outputs": [],
   "source": [
    "df.drop([\"tipodom\",\"cod_prov\"],axis=1,inplace=True)"
   ]
  },
  {
   "cell_type": "markdown",
   "metadata": {
    "_cell_guid": "b8f66021-233e-eb7b-10db-58a059df9306"
   },
   "source": [
    "Quick check back to see how we are doing on missing values"
   ]
  },
  {
   "cell_type": "code",
   "execution_count": 19,
   "metadata": {
    "_cell_guid": "96fc171a-6e3f-f6f9-93d0-c9f9e707d60b"
   },
   "outputs": [
    {
     "data": {
      "text/plain": [
       "fecha_dato               False\n",
       "ncodpers                 False\n",
       "ind_empleado             False\n",
       "pais_residencia          False\n",
       "sexo                      True\n",
       "age                      False\n",
       "fecha_alta               False\n",
       "ind_nuevo                False\n",
       "antiguedad               False\n",
       "indrel                   False\n",
       "ult_fec_cli_1t            True\n",
       "indrel_1mes               True\n",
       "tiprel_1mes               True\n",
       "indresi                  False\n",
       "indext                   False\n",
       "conyuemp                  True\n",
       "canal_entrada             True\n",
       "indfall                  False\n",
       "nomprov                   True\n",
       "ind_actividad_cliente    False\n",
       "renta                     True\n",
       "segmento                  True\n",
       "ind_ahor_fin_ult1        False\n",
       "ind_aval_fin_ult1        False\n",
       "ind_cco_fin_ult1         False\n",
       "ind_cder_fin_ult1        False\n",
       "ind_cno_fin_ult1         False\n",
       "ind_ctju_fin_ult1        False\n",
       "ind_ctma_fin_ult1        False\n",
       "ind_ctop_fin_ult1        False\n",
       "ind_ctpp_fin_ult1        False\n",
       "ind_deco_fin_ult1        False\n",
       "ind_deme_fin_ult1        False\n",
       "ind_dela_fin_ult1        False\n",
       "ind_ecue_fin_ult1        False\n",
       "ind_fond_fin_ult1        False\n",
       "ind_hip_fin_ult1         False\n",
       "ind_plan_fin_ult1        False\n",
       "ind_pres_fin_ult1        False\n",
       "ind_reca_fin_ult1        False\n",
       "ind_tjcr_fin_ult1        False\n",
       "ind_valo_fin_ult1        False\n",
       "ind_viv_fin_ult1         False\n",
       "ind_nomina_ult1          False\n",
       "ind_nom_pens_ult1        False\n",
       "ind_recibo_ult1          False\n",
       "month                    False\n",
       "dtype: bool"
      ]
     },
     "execution_count": 19,
     "metadata": {},
     "output_type": "execute_result"
    }
   ],
   "source": [
    "df.isnull().any()"
   ]
  },
  {
   "cell_type": "markdown",
   "metadata": {
    "_cell_guid": "d85d2c58-b6cd-1928-a321-23467561c7d5"
   },
   "source": [
    "Getting closer."
   ]
  },
  {
   "cell_type": "code",
   "execution_count": 20,
   "metadata": {
    "_cell_guid": "cc0707d4-cea8-174f-16b7-f8fd3f8b67b5"
   },
   "outputs": [
    {
     "data": {
      "text/plain": [
       "0"
      ]
     },
     "execution_count": 20,
     "metadata": {},
     "output_type": "execute_result"
    }
   ],
   "source": [
    "np.sum(df[\"ind_actividad_cliente\"].isnull())"
   ]
  },
  {
   "cell_type": "markdown",
   "metadata": {
    "_cell_guid": "bd3325ce-c4c9-3c01-c8c1-900093f05bbf"
   },
   "source": [
    "By now you've probably noticed that this number keeps popping up. A handful of the entries are just bad, and should probably just be excluded from the model. But for now I will just clean/keep them."
   ]
  },
  {
   "cell_type": "code",
   "execution_count": 21,
   "metadata": {
    "_cell_guid": "afa661ef-5c01-ef33-3ac0-a7b35ecf2e27"
   },
   "outputs": [],
   "source": [
    "df.loc[df.ind_actividad_cliente.isnull(),\"ind_actividad_cliente\"] = \\\n",
    "df[\"ind_actividad_cliente\"].median()"
   ]
  },
  {
   "cell_type": "code",
   "execution_count": 22,
   "metadata": {
    "_cell_guid": "b0400709-8b1d-1440-b940-d27ab17c528b"
   },
   "outputs": [
    {
     "data": {
      "text/plain": [
       "array(['CANTABRIA', 'BIZKAIA', 'TOLEDO', 'ZARAGOZA', 'MADRID', 'VALENCIA',\n",
       "       'BARCELONA', 'GIPUZKOA', 'LEON', 'MALAGA', 'BALEARS, ILLES',\n",
       "       'SANTA CRUZ DE TENERIFE', 'ALICANTE', 'SEVILLA', 'CADIZ',\n",
       "       'CIUDAD REAL', 'OURENSE', 'SALAMANCA', 'CUENCA', 'PALMAS, LAS',\n",
       "       'RIOJA, LA', 'LUGO', 'CACERES', 'ALBACETE', 'PONTEVEDRA',\n",
       "       'ASTURIAS', 'PALENCIA', 'TERUEL', 'GRANADA', 'CORUÑA, A',\n",
       "       'CASTELLON', 'CORDOBA', 'MURCIA', 'GUADALAJARA', 'ZAMORA', 'ALAVA',\n",
       "       'ALMERIA', 'HUELVA', 'LERIDA', 'SEGOVIA', 'NAVARRA', 'TARRAGONA',\n",
       "       'BADAJOZ', 'GIRONA', 'JAEN', nan, 'VALLADOLID', 'BURGOS',\n",
       "       'MELILLA', 'AVILA', 'HUESCA', 'SORIA', 'CEUTA'], dtype=object)"
      ]
     },
     "execution_count": 22,
     "metadata": {},
     "output_type": "execute_result"
    }
   ],
   "source": [
    "df.nomprov.unique()"
   ]
  },
  {
   "cell_type": "markdown",
   "metadata": {
    "_cell_guid": "568e9011-a39a-ff51-67d5-3a260588f636"
   },
   "source": [
    "There was an issue with the unicode character ñ in [A Coruña](https://en.wikipedia.org/wiki/A_Coruña). I'll manually fix it, but if anybody knows a better way to catch cases like this I would be very glad to hear it in the comments."
   ]
  },
  {
   "cell_type": "code",
   "execution_count": 23,
   "metadata": {
    "_cell_guid": "0dbadbd2-76be-0789-f745-803f93585318"
   },
   "outputs": [],
   "source": [
    "df.loc[df.nomprov==\"CORU\\xc3\\x91A, A\",\"nomprov\"] = \"CORUNA, A\""
   ]
  },
  {
   "cell_type": "markdown",
   "metadata": {
    "_cell_guid": "ca29776f-143b-d2e0-ef05-3e573e5af04b"
   },
   "source": [
    "There's some rows missing a city that I'll relabel"
   ]
  },
  {
   "cell_type": "code",
   "execution_count": 24,
   "metadata": {
    "_cell_guid": "f2b0b646-b74a-8f51-d754-40e4c58c9578"
   },
   "outputs": [],
   "source": [
    "df.loc[df.nomprov.isnull(),\"nomprov\"] = \"UNKNOWN\""
   ]
  },
  {
   "cell_type": "markdown",
   "metadata": {
    "_cell_guid": "7acb976b-5e9a-51a6-dec2-422ef0b8d97d"
   },
   "source": [
    "Now for gross income, aka `renta`"
   ]
  },
  {
   "cell_type": "code",
   "execution_count": 25,
   "metadata": {
    "_cell_guid": "9830d62e-2fd0-ae57-a616-2a58ef7c93e7"
   },
   "outputs": [
    {
     "data": {
      "text/plain": [
       "454273"
      ]
     },
     "execution_count": 25,
     "metadata": {},
     "output_type": "execute_result"
    }
   ],
   "source": [
    "df.renta.isnull().sum()"
   ]
  },
  {
   "cell_type": "markdown",
   "metadata": {
    "_cell_guid": "7f3938b5-695f-2bc6-0145-37c81ef75be4"
   },
   "source": [
    "Here is a feature that is missing a lot of values. Rather than just filling them in with a median, it's probably more accurate to break it down region by region. To that end, let's take a look at the median income by region, and in the spirit of the competition let's color it like the Spanish flag."
   ]
  },
  {
   "cell_type": "code",
   "execution_count": 26,
   "metadata": {},
   "outputs": [],
   "source": [
    "df.loc[df.renta.isnull(),:].groupby(\"nomprov\").renta = df.loc[df.renta.notnull(),:].groupby(\"nomprov\").mean().renta\n",
    "df[\"MedianIncome\"] = df.loc[df.renta.notnull(),:].groupby(\"nomprov\").renta.transform(\"mean\")\n",
    "incomes = df.copy()"
   ]
  },
  {
   "cell_type": "code",
   "execution_count": 27,
   "metadata": {
    "_cell_guid": "587bca44-b0ba-37a9-9b99-b715c690688d"
   },
   "outputs": [],
   "source": [
    "from pandas.api.types import CategoricalDtype\n",
    "\n",
    "#df.loc[df.renta.notnull(),:].groupby(\"nomprov\").agg([{\"Sum\":sum},{\"Mean\":mean}])\n",
    "# incomes = df.loc[df.renta.notnull(),:].groupby(\"nomprov\").agg({\"renta\":{\"MedianIncome\":median}})\n",
    "incomes.sort_values([\"MedianIncome\"],inplace=True)\n",
    "incomes.reset_index(inplace=True)\n",
    "incomes.nomprov = incomes.nomprov.astype(\"category\", CategoricalDtype([i for i in df.nomprov.unique()], ordered=True))\n",
    "incomes.head()\n",
    "incomes = incomes[[\"MedianIncome\",\"nomprov\"]]\n",
    "df[\"MedianIncome\"] = df.loc[df.renta.notnull(),:].groupby(\"nomprov\").renta.transform(\"mean\")\n",
    "# medianIncome = df.groupby(\"nomprov\")[[\"MedianIncome\"]].reset_index()\n",
    "# incomes = df.loc[df.renta.notnull(),:].groupby(\"nomprov\").agg({\"renta\":{\"MedianIncome\":median}})\n",
    "# incomes.sort_values(by=(\"renta\",\"MedianIncome\"),inplace=True)\n",
    "# incomes.reset_index(inplace=True)\n",
    "# incomes.nomprov = incomes.nomprov.astype(\"category\", categories=[i for i in df.nomprov.unique()],ordered=False)\n",
    "# incomes.head()"
   ]
  },
  {
   "cell_type": "code",
   "execution_count": 28,
   "metadata": {},
   "outputs": [
    {
     "data": {
      "text/html": [
       "<div>\n",
       "<style scoped>\n",
       "    .dataframe tbody tr th:only-of-type {\n",
       "        vertical-align: middle;\n",
       "    }\n",
       "\n",
       "    .dataframe tbody tr th {\n",
       "        vertical-align: top;\n",
       "    }\n",
       "\n",
       "    .dataframe thead th {\n",
       "        text-align: right;\n",
       "    }\n",
       "</style>\n",
       "<table border=\"1\" class=\"dataframe\">\n",
       "  <thead>\n",
       "    <tr style=\"text-align: right;\">\n",
       "      <th></th>\n",
       "      <th>MedianIncome</th>\n",
       "      <th>nomprov</th>\n",
       "    </tr>\n",
       "  </thead>\n",
       "  <tbody>\n",
       "    <tr>\n",
       "      <th>0</th>\n",
       "      <td>69750.701323</td>\n",
       "      <td>CUENCA</td>\n",
       "    </tr>\n",
       "    <tr>\n",
       "      <th>1</th>\n",
       "      <td>69750.701323</td>\n",
       "      <td>CUENCA</td>\n",
       "    </tr>\n",
       "    <tr>\n",
       "      <th>2</th>\n",
       "      <td>69750.701323</td>\n",
       "      <td>CUENCA</td>\n",
       "    </tr>\n",
       "    <tr>\n",
       "      <th>3</th>\n",
       "      <td>69750.701323</td>\n",
       "      <td>CUENCA</td>\n",
       "    </tr>\n",
       "    <tr>\n",
       "      <th>4</th>\n",
       "      <td>69750.701323</td>\n",
       "      <td>CUENCA</td>\n",
       "    </tr>\n",
       "  </tbody>\n",
       "</table>\n",
       "</div>"
      ],
      "text/plain": [
       "   MedianIncome nomprov\n",
       "0  69750.701323  CUENCA\n",
       "1  69750.701323  CUENCA\n",
       "2  69750.701323  CUENCA\n",
       "3  69750.701323  CUENCA\n",
       "4  69750.701323  CUENCA"
      ]
     },
     "execution_count": 28,
     "metadata": {},
     "output_type": "execute_result"
    }
   ],
   "source": [
    "incomes.head()"
   ]
  },
  {
   "cell_type": "code",
   "execution_count": 29,
   "metadata": {
    "_cell_guid": "fd49def1-8da1-2d6f-15b8-73eb2c44a237"
   },
   "outputs": [
    {
     "data": {
      "image/png": "[encoded data removed]",
      "text/plain": [
       "<Figure size 720x360 with 1 Axes>"
      ]
     },
     "metadata": {},
     "output_type": "display_data"
    }
   ],
   "source": [
    "# with sns.axes_style({\n",
    "#         \"axes.facecolor\":   \"#ffc400\",\n",
    "#         \"axes.grid\"     :    False,\n",
    "#         \"figure.facecolor\": \"#c60b1e\"}):\n",
    "#     h = sns.factorplot(data=incomes,\n",
    "#                    x=\"nomprov\",\n",
    "#                    y=\"renta\",\n",
    "#                       hue=\"MedianIncome\",\n",
    "# #                    order=(i for i in incomes.nomprov),\n",
    "#                    size=6,\n",
    "#                    aspect=1.5,\n",
    "#                    scale=1.0,\n",
    "#                    color=\"#c60b1e\",\n",
    "#                    linestyles=\"None\")\n",
    "# plt.xticks(rotation=90)\n",
    "# plt.tick_params(labelsize=16,labelcolor=\"#ffc400\")#\n",
    "# plt.ylabel(\"Median Income\",size=32,color=\"#ffc400\")\n",
    "# plt.xlabel(\"City\",size=32,color=\"#ffc400\")\n",
    "# plt.title(\"Income Distribution by City\",size=40,color=\"#ffc400\")\n",
    "# plt.ylim(0,180000)\n",
    "# plt.yticks(range(0,180000,40000))\n",
    "sns.set_style(\"darkgrid\")\n",
    "sns.relplot(data=incomes,x='nomprov',y='MedianIncome', aspect=2)\n",
    "plt.xticks(rotation=90)\n",
    "plt.tick_params(labelsize=12)#\n",
    "plt.ylabel(\"Median Income\",size=20)\n",
    "plt.xlabel(\"City\",size=20)\n",
    "plt.title(\"Income Distribution by City\",size=30)\n",
    "plt.ylim(0,180000)\n",
    "plt.yticks(range(0,180000,40000))\n",
    "plt.grid(False)"
   ]
  },
  {
   "cell_type": "markdown",
   "metadata": {
    "_cell_guid": "6edf053e-2c31-3f39-e870-62d0b4cd30ac"
   },
   "source": [
    "There's a lot of variation, so I think assigning missing incomes by providence is a good idea. First group the data by city, and reduce to get the median. This intermediate data frame is joined by the original city names to expand the aggregated median incomes, ordered so that there is a 1-to-1 mapping between the rows, and finally the missing values are replaced."
   ]
  },
  {
   "cell_type": "code",
   "execution_count": 30,
   "metadata": {
    "_cell_guid": "6fbf3979-141d-b716-3ba7-830d4b845172"
   },
   "outputs": [],
   "source": [
    "grouped        = df.groupby(\"nomprov\").agg({\"renta\":lambda x: x.median(skipna=True)}).reset_index()\n",
    "new_incomes    = pd.merge(df,grouped,how=\"inner\",on=\"nomprov\").loc[:, [\"nomprov\",\"renta_y\"]]\n",
    "new_incomes    = new_incomes.rename(columns={\"renta_y\":\"renta\"}).sort_values(\"renta\").sort_values(\"nomprov\")\n",
    "df.sort_values(\"nomprov\",inplace=True)\n",
    "df             = df.reset_index()\n",
    "new_incomes    = new_incomes.reset_index()"
   ]
  },
  {
   "cell_type": "code",
   "execution_count": 31,
   "metadata": {
    "_cell_guid": "62958334-bca1-73e0-871e-20f70bed4867"
   },
   "outputs": [],
   "source": [
    "df.loc[df.renta.isnull(),\"renta\"] = new_incomes.loc[df.renta.isnull(),\"renta\"].reset_index()\n",
    "df.loc[df.renta.isnull(),\"renta\"] = df.loc[df.renta.notnull(),\"renta\"].median()\n",
    "df.sort_values(by=\"fecha_dato\",inplace=True)"
   ]
  },
  {
   "cell_type": "markdown",
   "metadata": {
    "_cell_guid": "c5a83406-42f3-f518-224c-33cb63052cf6"
   },
   "source": [
    "The next columns with missing data I'll look at are features, which are just a boolean indicator as to whether or not that product was owned that month. Starting with `ind_nomina_ult1`.."
   ]
  },
  {
   "cell_type": "code",
   "execution_count": 32,
   "metadata": {
    "_cell_guid": "4f280171-c0f3-c98e-bb35-ef903a9d9564"
   },
   "outputs": [
    {
     "data": {
      "text/plain": [
       "0"
      ]
     },
     "execution_count": 32,
     "metadata": {},
     "output_type": "execute_result"
    }
   ],
   "source": [
    "df.ind_nomina_ult1.isnull().sum()"
   ]
  },
  {
   "cell_type": "markdown",
   "metadata": {
    "_cell_guid": "cb5e1ac0-7de1-412d-f35c-72f20e2e8e7f"
   },
   "source": [
    "I could try to fill in missing values for products by looking at previous months, but since it's such a small number of values for now I'll take the cheap way out."
   ]
  },
  {
   "cell_type": "code",
   "execution_count": 33,
   "metadata": {
    "_cell_guid": "2ab8cd9b-5ec4-4c99-4f84-c394b39790d8"
   },
   "outputs": [],
   "source": [
    "df.loc[df.ind_nomina_ult1.isnull(), \"ind_nomina_ult1\"] = 0\n",
    "df.loc[df.ind_nom_pens_ult1.isnull(), \"ind_nom_pens_ult1\"] = 0"
   ]
  },
  {
   "cell_type": "markdown",
   "metadata": {
    "_cell_guid": "3ad7235d-0368-a84e-6b29-ce4323590eb8"
   },
   "source": [
    "There's also a bunch of character columns that contain empty strings. In R, these are kept as empty strings instead of NA like in pandas. I originally worked through the data with missing values first in R, so if you are wondering why I skipped some NA columns here that's why. I'll take care of them now. For the most part, entries with NA will be converted to an unknown category.  \n",
    "First I'll get only the columns with missing values. Then print the unique values to determine what I should fill in with."
   ]
  },
  {
   "cell_type": "code",
   "execution_count": 34,
   "metadata": {
    "_cell_guid": "299fe28e-8844-ed3d-d558-30986db1ee60"
   },
   "outputs": [
    {
     "name": "stdout",
     "output_type": "stream",
     "text": [
      "Unique values for sexo:\n",
      "['V' 'H' nan]\n",
      "\n",
      "Unique values for ult_fec_cli_1t:\n",
      "[nan '2016-04-06' '2016-04-07' '2016-04-04' '2016-04-08' '2016-04-20'\n",
      " '2016-04-19' '2016-04-21' '2016-04-25' '2016-04-11' '2016-04-22'\n",
      " '2016-04-28' '2016-04-26' '2016-04-14' '2016-04-12' '2016-04-01'\n",
      " '2016-04-13' '2016-04-05' '2016-04-27' '2016-04-18' '2016-04-15'\n",
      " '2016-05-09' '2016-05-04' '2016-05-05' '2016-05-25' '2016-05-23'\n",
      " '2016-05-19' '2016-05-10' '2016-05-24' '2016-05-30' '2016-05-18'\n",
      " '2016-05-26' '2016-05-27' '2016-05-02' '2016-05-13' '2016-05-11'\n",
      " '2016-05-03' '2016-05-06' '2016-05-16' '2016-05-17' '2016-05-20'\n",
      " '2016-05-12']\n",
      "\n",
      "Unique values for indrel_1mes:\n",
      "[1.0 '1.0' '1' '2' '3.0' '3' nan 3.0 'P' 2.0 '2.0' '4.0' 4.0 '4']\n",
      "\n",
      "Unique values for tiprel_1mes:\n",
      "['I' 'A' 'P' nan 'R']\n",
      "\n",
      "Unique values for conyuemp:\n",
      "[nan 'N' 'S']\n",
      "\n",
      "Unique values for canal_entrada:\n",
      "['KAB' 'KAT' 'KDV' 'KHQ' 'KFC' 'KHE' 'KHN' 'KAC' 'KDY' 'KES' 'KHM' 'KHK'\n",
      " 'KHD' 'KAZ' 'KDZ' 'KHC' 'KEY' 'KGY' 'KAY' nan 'RED' 'KFA' 'KAI' 'KDX'\n",
      " 'KBO' 'KAW' 'KCL' 'KHL' 'KFL' 'KCM' 'KAP' '013' 'KFJ' 'KEN' 'KAS' 'KDU'\n",
      " 'KBZ' '007' 'KAH' 'KAE' 'KHF' 'KCH' 'KFD' 'KAR' 'KEV' 'KAQ' 'KEL' 'KAL'\n",
      " 'KAJ' 'KFP' '025' 'KAG' 'KEZ' 'KHO' 'KCC' 'KEW' 'KAM' 'KCI' 'KDO' 'KEM'\n",
      " 'KCK' 'KDQ' 'KBF' 'KEH' 'KAO' 'KFG' 'KHP' 'KFS' 'KCG' 'KDM' 'KFF' 'KFT'\n",
      " 'KBR' 'KGV' 'KBQ' 'KFU' 'KAA' 'KFI' 'KFH' 'KDD' 'KFV' 'KCB' 'KBH' 'KGX'\n",
      " 'KFN' 'KDP' 'KAD' 'KEA' 'KEB' 'KEC' 'KAF' 'K00' 'KDA' '004' 'KEJ' 'KED'\n",
      " 'KDS' 'KBL' 'KCD' 'KEG' 'KCJ' 'KDR' 'KBV' 'KCF' 'KBU' 'KHA' 'KFK' 'KBG'\n",
      " 'KEO' 'KEU' 'KFB' 'KCA' 'KBB' 'KEQ' 'KEK' 'KDT' 'KGN' 'KCU' 'KDH' 'KAK'\n",
      " 'KBM' 'KAU' 'KDN' 'KBS' 'KDC' 'KCX' 'KAN' 'KDG' 'KCN' 'KAV' 'KBW' 'KCO'\n",
      " 'KFM' 'KDE' 'KBE' 'KBY' 'KCQ' 'KCP' 'KEE' 'KBD' 'KGU' 'KGW' 'KBJ' 'KGC'\n",
      " 'KFE' 'KDF' 'KBX' 'KEF' 'KCE' 'KBP' 'KBN' 'KCR' 'KDW' 'KEI' 'KCT' 'KCV'\n",
      " 'KCS' 'KDB' 'KFR' 'KDI' 'KDL' 'KHS' 'KHR']\n",
      "\n",
      "Unique values for segmento:\n",
      "['02 - PARTICULARES' '03 - UNIVERSITARIO' '01 - TOP' nan]\n",
      "\n"
     ]
    }
   ],
   "source": [
    "string_data = df.select_dtypes(include=[\"object\"])\n",
    "missing_columns = [col for col in string_data if string_data[col].isnull().any()]\n",
    "for col in missing_columns:\n",
    "    print(\"Unique values for {0}:\\n{1}\\n\".format(col,string_data[col].unique()))\n",
    "del string_data"
   ]
  },
  {
   "cell_type": "markdown",
   "metadata": {
    "_cell_guid": "17dd06a2-0c4e-49cd-21ef-2cc8235d1706"
   },
   "source": [
    "Okay, based on that and the definitions of each variable, I will fill the empty strings either with the most common value or create an unknown category based on what I think makes more sense."
   ]
  },
  {
   "cell_type": "code",
   "execution_count": 35,
   "metadata": {
    "_cell_guid": "c52777c3-06be-bf9f-0e33-3ae7e1b47d37"
   },
   "outputs": [],
   "source": [
    "df.loc[df.indfall.isnull(),\"indfall\"] = \"N\"\n",
    "df.loc[df.tiprel_1mes.isnull(),\"tiprel_1mes\"] = \"A\"\n",
    "df.tiprel_1mes = df.tiprel_1mes.astype(\"category\")\n",
    "\n",
    "# As suggested by @StephenSmith\n",
    "map_dict = { 1.0  : \"1\",\n",
    "            \"1.0\" : \"1\",\n",
    "            \"1\"   : \"1\",\n",
    "            \"3.0\" : \"3\",\n",
    "            \"P\"   : \"P\",\n",
    "            3.0   : \"3\",\n",
    "            2.0   : \"2\",\n",
    "            \"3\"   : \"3\",\n",
    "            \"2.0\" : \"2\",\n",
    "            \"4.0\" : \"4\",\n",
    "            \"4\"   : \"4\",\n",
    "            \"2\"   : \"2\"}\n",
    "\n",
    "df.indrel_1mes.fillna(\"P\",inplace=True)\n",
    "df.indrel_1mes = df.indrel_1mes.apply(lambda x: map_dict.get(x,x))\n",
    "df.indrel_1mes = df.indrel_1mes.astype(\"category\")\n",
    "\n",
    "\n",
    "unknown_cols = [col for col in missing_columns if col not in [\"indfall\",\"tiprel_1mes\",\"indrel_1mes\"]]\n",
    "for col in unknown_cols:\n",
    "    df.loc[df[col].isnull(),col] = \"UNKNOWN\""
   ]
  },
  {
   "cell_type": "markdown",
   "metadata": {
    "_cell_guid": "1434f0ea-f1f6-8f61-bbf8-6cf299339fc3"
   },
   "source": [
    "Let's check back to see if we missed anything"
   ]
  },
  {
   "cell_type": "code",
   "execution_count": 36,
   "metadata": {
    "_cell_guid": "28ee02b3-7e9c-0a66-3541-211ccd9dc34f"
   },
   "outputs": [
    {
     "data": {
      "text/plain": [
       "index                    False\n",
       "fecha_dato               False\n",
       "ncodpers                 False\n",
       "ind_empleado             False\n",
       "pais_residencia          False\n",
       "sexo                     False\n",
       "age                      False\n",
       "fecha_alta               False\n",
       "ind_nuevo                False\n",
       "antiguedad               False\n",
       "indrel                   False\n",
       "ult_fec_cli_1t           False\n",
       "indrel_1mes              False\n",
       "tiprel_1mes              False\n",
       "indresi                  False\n",
       "indext                   False\n",
       "conyuemp                 False\n",
       "canal_entrada            False\n",
       "indfall                  False\n",
       "nomprov                  False\n",
       "ind_actividad_cliente    False\n",
       "renta                    False\n",
       "segmento                 False\n",
       "ind_ahor_fin_ult1        False\n",
       "ind_aval_fin_ult1        False\n",
       "ind_cco_fin_ult1         False\n",
       "ind_cder_fin_ult1        False\n",
       "ind_cno_fin_ult1         False\n",
       "ind_ctju_fin_ult1        False\n",
       "ind_ctma_fin_ult1        False\n",
       "ind_ctop_fin_ult1        False\n",
       "ind_ctpp_fin_ult1        False\n",
       "ind_deco_fin_ult1        False\n",
       "ind_deme_fin_ult1        False\n",
       "ind_dela_fin_ult1        False\n",
       "ind_ecue_fin_ult1        False\n",
       "ind_fond_fin_ult1        False\n",
       "ind_hip_fin_ult1         False\n",
       "ind_plan_fin_ult1        False\n",
       "ind_pres_fin_ult1        False\n",
       "ind_reca_fin_ult1        False\n",
       "ind_tjcr_fin_ult1        False\n",
       "ind_valo_fin_ult1        False\n",
       "ind_viv_fin_ult1         False\n",
       "ind_nomina_ult1          False\n",
       "ind_nom_pens_ult1        False\n",
       "ind_recibo_ult1          False\n",
       "month                    False\n",
       "MedianIncome             False\n",
       "dtype: bool"
      ]
     },
     "execution_count": 36,
     "metadata": {},
     "output_type": "execute_result"
    }
   ],
   "source": [
    "df[\"MedianIncome\"] = df.loc[df.renta.notnull(),:].groupby(\"nomprov\").renta.transform(\"mean\")\n",
    "df.isnull().any()"
   ]
  },
  {
   "cell_type": "code",
   "execution_count": 37,
   "metadata": {},
   "outputs": [
    {
     "data": {
      "text/plain": [
       "index                             int64\n",
       "fecha_dato               datetime64[ns]\n",
       "ncodpers                          int64\n",
       "ind_empleado                     object\n",
       "pais_residencia                  object\n",
       "sexo                             object\n",
       "age                               int32\n",
       "fecha_alta               datetime64[ns]\n",
       "ind_nuevo                        object\n",
       "antiguedad                        int64\n",
       "indrel                            int64\n",
       "ult_fec_cli_1t                   object\n",
       "indrel_1mes                    category\n",
       "tiprel_1mes                    category\n",
       "indresi                          object\n",
       "indext                           object\n",
       "conyuemp                         object\n",
       "canal_entrada                    object\n",
       "indfall                          object\n",
       "nomprov                          object\n",
       "ind_actividad_cliente           float64\n",
       "renta                           float64\n",
       "segmento                         object\n",
       "ind_ahor_fin_ult1                 int64\n",
       "ind_aval_fin_ult1                 int64\n",
       "ind_cco_fin_ult1                  int64\n",
       "ind_cder_fin_ult1                 int64\n",
       "ind_cno_fin_ult1                  int64\n",
       "ind_ctju_fin_ult1                 int64\n",
       "ind_ctma_fin_ult1                 int64\n",
       "ind_ctop_fin_ult1                 int64\n",
       "ind_ctpp_fin_ult1                 int64\n",
       "ind_deco_fin_ult1                 int64\n",
       "ind_deme_fin_ult1                 int64\n",
       "ind_dela_fin_ult1                 int64\n",
       "ind_ecue_fin_ult1                 int64\n",
       "ind_fond_fin_ult1                 int64\n",
       "ind_hip_fin_ult1                  int64\n",
       "ind_plan_fin_ult1                 int64\n",
       "ind_pres_fin_ult1                 int64\n",
       "ind_reca_fin_ult1                 int64\n",
       "ind_tjcr_fin_ult1                 int64\n",
       "ind_valo_fin_ult1                 int64\n",
       "ind_viv_fin_ult1                  int64\n",
       "ind_nomina_ult1                   int64\n",
       "ind_nom_pens_ult1                 int64\n",
       "ind_recibo_ult1                   int64\n",
       "month                             int64\n",
       "MedianIncome                    float64\n",
       "dtype: object"
      ]
     },
     "execution_count": 37,
     "metadata": {},
     "output_type": "execute_result"
    }
   ],
   "source": [
    "df.dtypes"
   ]
  },
  {
   "cell_type": "code",
   "execution_count": null,
   "metadata": {},
   "outputs": [],
   "source": []
  },
  {
   "cell_type": "code",
   "execution_count": 38,
   "metadata": {},
   "outputs": [],
   "source": [
    "df.to_csv('train_ver2_complete.csv', index=False)"
   ]
  },
  {
   "cell_type": "markdown",
   "metadata": {},
   "source": [
    "### SVD Method"
   ]
  },
  {
   "cell_type": "code",
   "execution_count": 39,
   "metadata": {},
   "outputs": [],
   "source": [
    "from scipy.linalg import sqrtm\n",
    "def compute_svd(k,train_df):\n",
    "    U,s,V = np.linalg.svd(train_df,full_matrices=False)\n",
    "\n",
    "    s=np.diag(s)\n",
    "    \n",
    "    # Select k latent vector\n",
    "    s=s[0:k,0:k]\n",
    "    U=U[:,0:k]\n",
    "    V=V[0:k,:]\n",
    "\n",
    "    s_root=sqrtm(s)\n",
    "\n",
    "    Usk=np.dot(U,s_root)\n",
    "    skV=np.dot(s_root,V)\n",
    "    UsV = np.dot(Usk, skV)\n",
    "    return UsV"
   ]
  },
  {
   "cell_type": "code",
   "execution_count": null,
   "metadata": {},
   "outputs": [],
   "source": []
  },
  {
   "cell_type": "code",
   "execution_count": 40,
   "metadata": {},
   "outputs": [
    {
     "name": "stderr",
     "output_type": "stream",
     "text": [
      "D:\\Anaconda\\envs\\santander\\lib\\site-packages\\IPython\\core\\interactiveshell.py:3062: DtypeWarning: Columns (15) have mixed types.Specify dtype option on import or set low_memory=False.\n",
      "  has_raised = await self.run_ast_nodes(code_ast.body, cell_name,\n"
     ]
    }
   ],
   "source": [
    "df_test = pd.read_csv(\"test_ver2.csv\",dtype={\"sexo\":str,\"ind_nuevo\":str,\"ult_fec_cli_1t\":str,\"indext\":str})"
   ]
  },
  {
   "cell_type": "code",
   "execution_count": 41,
   "metadata": {},
   "outputs": [
    {
     "name": "stdout",
     "output_type": "stream",
     "text": [
      "[  15889 1170544 1170545 ...  660240  660243  660248]\n",
      "929615\n"
     ]
    }
   ],
   "source": [
    "ncodpers_test = df_test.ncodpers.unique()\n",
    "print(ncodpers_test)\n",
    "# Create matrix for month 05-2016\n",
    "batch_1 = df[(df[\"fecha_dato\"]==\"2016-05-28\") & (df[\"ncodpers\"].isin(ncodpers_test))].copy()\n",
    "print(len(batch_1))\n",
    "ncodpers_batch_1 = batch_1.ncodpers.unique()\n",
    "# Create matrix for month 04-2016\n",
    "batch_2 = df[(df[\"fecha_dato\"]==\"2016-04-28\") & (df[\"ncodpers\"].isin(ncodpers_batch_1))].copy()\n",
    "ncodpers_batch_2 = batch_2.ncodpers.unique()\n",
    "# Remove users unpresent in month 04-2016\n",
    "batch_1 = batch_1[batch_1[\"ncodpers\"].isin(ncodpers_batch_2)]"
   ]
  },
  {
   "cell_type": "code",
   "execution_count": 42,
   "metadata": {},
   "outputs": [
    {
     "data": {
      "text/plain": [
       "929615"
      ]
     },
     "execution_count": 42,
     "metadata": {},
     "output_type": "execute_result"
    }
   ],
   "source": [
    "len(batch_1)\n",
    "len(df_test)"
   ]
  },
  {
   "cell_type": "code",
   "execution_count": 73,
   "metadata": {},
   "outputs": [],
   "source": [
    "cols =['ind_ahor_fin_ult1','ind_aval_fin_ult1','ind_cco_fin_ult1','ind_cder_fin_ult1','ind_cno_fin_ult1','ind_ctju_fin_ult1','ind_ctma_fin_ult1',\n",
    "       'ind_ctop_fin_ult1','ind_ctpp_fin_ult1','ind_deco_fin_ult1','ind_deme_fin_ult1','ind_dela_fin_ult1','ind_ecue_fin_ult1','ind_fond_fin_ult1',\n",
    "       'ind_hip_fin_ult1','ind_plan_fin_ult1','ind_pres_fin_ult1','ind_reca_fin_ult1','ind_tjcr_fin_ult1','ind_valo_fin_ult1','ind_viv_fin_ult1',\n",
    "       'ind_nomina_ult1','ind_nom_pens_ult1','ind_recibo_ult1']\n",
    "#Sort values by client id so that the matrices are coherent (for summation and prediction)\n",
    "batch_1_train = batch_1.sort_values('ncodpers')\n",
    "batch_2_train = batch_2.sort_values('ncodpers')\n",
    "\n",
    "ncodpers = batch_1_train.ncodpers\n",
    "\n",
    "x_1 = batch_1_train[cols]\n",
    "x_2 = batch_2_train[cols]"
   ]
  },
  {
   "cell_type": "code",
   "execution_count": 74,
   "metadata": {},
   "outputs": [
    {
     "data": {
      "text/plain": [
       "ind_ahor_fin_ult1    int64\n",
       "ind_aval_fin_ult1    int64\n",
       "ind_cco_fin_ult1     int64\n",
       "ind_cder_fin_ult1    int64\n",
       "ind_cno_fin_ult1     int64\n",
       "ind_ctju_fin_ult1    int64\n",
       "ind_ctma_fin_ult1    int64\n",
       "ind_ctop_fin_ult1    int64\n",
       "ind_ctpp_fin_ult1    int64\n",
       "ind_deco_fin_ult1    int64\n",
       "ind_deme_fin_ult1    int64\n",
       "ind_dela_fin_ult1    int64\n",
       "ind_ecue_fin_ult1    int64\n",
       "ind_fond_fin_ult1    int64\n",
       "ind_hip_fin_ult1     int64\n",
       "ind_plan_fin_ult1    int64\n",
       "ind_pres_fin_ult1    int64\n",
       "ind_reca_fin_ult1    int64\n",
       "ind_tjcr_fin_ult1    int64\n",
       "ind_valo_fin_ult1    int64\n",
       "ind_viv_fin_ult1     int64\n",
       "ind_nomina_ult1      int64\n",
       "ind_nom_pens_ult1    int64\n",
       "ind_recibo_ult1      int64\n",
       "dtype: object"
      ]
     },
     "execution_count": 74,
     "metadata": {},
     "output_type": "execute_result"
    }
   ],
   "source": [
    "x_1.dtypes"
   ]
  },
  {
   "cell_type": "code",
   "execution_count": 45,
   "metadata": {},
   "outputs": [],
   "source": [
    "x_1 = x_1.values\n",
    "x_2 = x_2.values"
   ]
  },
  {
   "cell_type": "code",
   "execution_count": 46,
   "metadata": {},
   "outputs": [],
   "source": [
    "reconstruct = 0.5*compute_svd(4,x_1)+0.5*compute_svd(4,x_2)"
   ]
  },
  {
   "cell_type": "code",
   "execution_count": 47,
   "metadata": {},
   "outputs": [
    {
     "data": {
      "text/plain": [
       "array([9.03432541e-05, 3.09923570e-05, 1.01748532e+00, 4.89026846e-04,\n",
       "       7.24616095e-02, 1.55205897e-05, 9.44310604e-03, 1.06434107e-01,\n",
       "       4.72123815e-02, 5.31006301e-04, 1.70629870e-03, 5.24481565e-02,\n",
       "       1.32003807e-01, 2.47937003e-02, 6.64798681e-03, 1.06527073e-02,\n",
       "       1.66024662e-03, 6.97693263e-02, 5.62267760e-02, 3.75120552e-02,\n",
       "       3.79706285e-03, 5.71824509e-02, 6.21070322e-02, 1.96645821e-01])"
      ]
     },
     "execution_count": 47,
     "metadata": {},
     "output_type": "execute_result"
    }
   ],
   "source": [
    "reconstruct[0]"
   ]
  },
  {
   "cell_type": "code",
   "execution_count": 71,
   "metadata": {},
   "outputs": [],
   "source": [
    "import csv\n",
    "\n",
    "from tqdm import tqdm\n",
    "\n",
    "\n",
    "def predict(UsV,threshold,k, init_df):\n",
    "    with open(\"test_results.csv\",'w') as results_file:\n",
    "        writer = csv.writer(results_file,delimiter=\",\")\n",
    "        writer.writerow(['ncodpers','added_products'])\n",
    "        for i, row in enumerate(tqdm(UsV)):\n",
    "            idxs = np.argsort(row)\n",
    "#             print(type(idxs))\n",
    "            keys = [cols[i] for i in idxs]\n",
    "            final_values = [init_df.iloc[i][['ncodpers']].values[0]]\n",
    "#             print(final_values)\n",
    "            for idx, key in enumerate(keys.copy()):\n",
    "                if init_df.iloc[i][[key]].values[0] < 1.0 and row[idxs[idx]]>=threshold:\n",
    "                    final_values.append(key)\n",
    "            writer.writerow(final_values)\n",
    "                    \n",
    "        \n",
    "        "
   ]
  },
  {
   "cell_type": "code",
   "execution_count": 72,
   "metadata": {},
   "outputs": [
    {
     "name": "stderr",
     "output_type": "stream",
     "text": [
      "  0%|                                                                           | 199/925252 [00:04<5:27:22, 47.10it/s]\n"
     ]
    },
    {
     "ename": "KeyboardInterrupt",
     "evalue": "",
     "output_type": "error",
     "traceback": [
      "\u001b[1;31m---------------------------------------------------------------------------\u001b[0m",
      "\u001b[1;31mKeyboardInterrupt\u001b[0m                         Traceback (most recent call last)",
      "\u001b[1;32m<ipython-input-72-85edeb2b9038>\u001b[0m in \u001b[0;36m<module>\u001b[1;34m\u001b[0m\n\u001b[1;32m----> 1\u001b[1;33m \u001b[0mpredict\u001b[0m\u001b[1;33m(\u001b[0m\u001b[0mreconstruct\u001b[0m\u001b[1;33m,\u001b[0m \u001b[1;36m0.03\u001b[0m\u001b[1;33m,\u001b[0m \u001b[1;36m4\u001b[0m\u001b[1;33m,\u001b[0m \u001b[0mdf\u001b[0m\u001b[1;33m)\u001b[0m\u001b[1;33m\u001b[0m\u001b[1;33m\u001b[0m\u001b[0m\n\u001b[0m",
      "\u001b[1;32m<ipython-input-71-22f2ea80bdcf>\u001b[0m in \u001b[0;36mpredict\u001b[1;34m(UsV, threshold, k, init_df)\u001b[0m\n\u001b[0;32m     15\u001b[0m \u001b[1;31m#             print(final_values)\u001b[0m\u001b[1;33m\u001b[0m\u001b[1;33m\u001b[0m\u001b[1;33m\u001b[0m\u001b[0m\n\u001b[0;32m     16\u001b[0m             \u001b[1;32mfor\u001b[0m \u001b[0midx\u001b[0m\u001b[1;33m,\u001b[0m \u001b[0mkey\u001b[0m \u001b[1;32min\u001b[0m \u001b[0menumerate\u001b[0m\u001b[1;33m(\u001b[0m\u001b[0mkeys\u001b[0m\u001b[1;33m.\u001b[0m\u001b[0mcopy\u001b[0m\u001b[1;33m(\u001b[0m\u001b[1;33m)\u001b[0m\u001b[1;33m)\u001b[0m\u001b[1;33m:\u001b[0m\u001b[1;33m\u001b[0m\u001b[1;33m\u001b[0m\u001b[0m\n\u001b[1;32m---> 17\u001b[1;33m                 \u001b[1;32mif\u001b[0m \u001b[0minit_df\u001b[0m\u001b[1;33m.\u001b[0m\u001b[0miloc\u001b[0m\u001b[1;33m[\u001b[0m\u001b[0mi\u001b[0m\u001b[1;33m]\u001b[0m\u001b[1;33m[\u001b[0m\u001b[1;33m[\u001b[0m\u001b[0mkey\u001b[0m\u001b[1;33m]\u001b[0m\u001b[1;33m]\u001b[0m\u001b[1;33m.\u001b[0m\u001b[0mvalues\u001b[0m\u001b[1;33m[\u001b[0m\u001b[1;36m0\u001b[0m\u001b[1;33m]\u001b[0m \u001b[1;33m<\u001b[0m \u001b[1;36m1.0\u001b[0m \u001b[1;32mand\u001b[0m \u001b[0mrow\u001b[0m\u001b[1;33m[\u001b[0m\u001b[0midxs\u001b[0m\u001b[1;33m[\u001b[0m\u001b[0midx\u001b[0m\u001b[1;33m]\u001b[0m\u001b[1;33m]\u001b[0m\u001b[1;33m>=\u001b[0m\u001b[0mthreshold\u001b[0m\u001b[1;33m:\u001b[0m\u001b[1;33m\u001b[0m\u001b[1;33m\u001b[0m\u001b[0m\n\u001b[0m\u001b[0;32m     18\u001b[0m                     \u001b[0mfinal_values\u001b[0m\u001b[1;33m.\u001b[0m\u001b[0mappend\u001b[0m\u001b[1;33m(\u001b[0m\u001b[0mkey\u001b[0m\u001b[1;33m)\u001b[0m\u001b[1;33m\u001b[0m\u001b[1;33m\u001b[0m\u001b[0m\n\u001b[0;32m     19\u001b[0m             \u001b[0mwriter\u001b[0m\u001b[1;33m.\u001b[0m\u001b[0mwriterow\u001b[0m\u001b[1;33m(\u001b[0m\u001b[0mfinal_values\u001b[0m\u001b[1;33m)\u001b[0m\u001b[1;33m\u001b[0m\u001b[1;33m\u001b[0m\u001b[0m\n",
      "\u001b[1;32mD:\\Anaconda\\envs\\santander\\lib\\site-packages\\pandas\\core\\indexing.py\u001b[0m in \u001b[0;36m__getitem__\u001b[1;34m(self, key)\u001b[0m\n\u001b[0;32m   1766\u001b[0m \u001b[1;33m\u001b[0m\u001b[0m\n\u001b[0;32m   1767\u001b[0m             \u001b[0mmaybe_callable\u001b[0m \u001b[1;33m=\u001b[0m \u001b[0mcom\u001b[0m\u001b[1;33m.\u001b[0m\u001b[0mapply_if_callable\u001b[0m\u001b[1;33m(\u001b[0m\u001b[0mkey\u001b[0m\u001b[1;33m,\u001b[0m \u001b[0mself\u001b[0m\u001b[1;33m.\u001b[0m\u001b[0mobj\u001b[0m\u001b[1;33m)\u001b[0m\u001b[1;33m\u001b[0m\u001b[1;33m\u001b[0m\u001b[0m\n\u001b[1;32m-> 1768\u001b[1;33m             \u001b[1;32mreturn\u001b[0m \u001b[0mself\u001b[0m\u001b[1;33m.\u001b[0m\u001b[0m_getitem_axis\u001b[0m\u001b[1;33m(\u001b[0m\u001b[0mmaybe_callable\u001b[0m\u001b[1;33m,\u001b[0m \u001b[0maxis\u001b[0m\u001b[1;33m=\u001b[0m\u001b[0maxis\u001b[0m\u001b[1;33m)\u001b[0m\u001b[1;33m\u001b[0m\u001b[1;33m\u001b[0m\u001b[0m\n\u001b[0m\u001b[0;32m   1769\u001b[0m \u001b[1;33m\u001b[0m\u001b[0m\n\u001b[0;32m   1770\u001b[0m     \u001b[1;32mdef\u001b[0m \u001b[0m_is_scalar_access\u001b[0m\u001b[1;33m(\u001b[0m\u001b[0mself\u001b[0m\u001b[1;33m,\u001b[0m \u001b[0mkey\u001b[0m\u001b[1;33m:\u001b[0m \u001b[0mTuple\u001b[0m\u001b[1;33m)\u001b[0m\u001b[1;33m:\u001b[0m\u001b[1;33m\u001b[0m\u001b[1;33m\u001b[0m\u001b[0m\n",
      "\u001b[1;32mD:\\Anaconda\\envs\\santander\\lib\\site-packages\\pandas\\core\\indexing.py\u001b[0m in \u001b[0;36m_getitem_axis\u001b[1;34m(self, key, axis)\u001b[0m\n\u001b[0;32m   2138\u001b[0m             \u001b[0mself\u001b[0m\u001b[1;33m.\u001b[0m\u001b[0m_validate_integer\u001b[0m\u001b[1;33m(\u001b[0m\u001b[0mkey\u001b[0m\u001b[1;33m,\u001b[0m \u001b[0maxis\u001b[0m\u001b[1;33m)\u001b[0m\u001b[1;33m\u001b[0m\u001b[1;33m\u001b[0m\u001b[0m\n\u001b[0;32m   2139\u001b[0m \u001b[1;33m\u001b[0m\u001b[0m\n\u001b[1;32m-> 2140\u001b[1;33m             \u001b[1;32mreturn\u001b[0m \u001b[0mself\u001b[0m\u001b[1;33m.\u001b[0m\u001b[0m_get_loc\u001b[0m\u001b[1;33m(\u001b[0m\u001b[0mkey\u001b[0m\u001b[1;33m,\u001b[0m \u001b[0maxis\u001b[0m\u001b[1;33m=\u001b[0m\u001b[0maxis\u001b[0m\u001b[1;33m)\u001b[0m\u001b[1;33m\u001b[0m\u001b[1;33m\u001b[0m\u001b[0m\n\u001b[0m\u001b[0;32m   2141\u001b[0m \u001b[1;33m\u001b[0m\u001b[0m\n\u001b[0;32m   2142\u001b[0m     \u001b[1;31m# raise_missing is included for compat with the parent class signature\u001b[0m\u001b[1;33m\u001b[0m\u001b[1;33m\u001b[0m\u001b[1;33m\u001b[0m\u001b[0m\n",
      "\u001b[1;32mD:\\Anaconda\\envs\\santander\\lib\\site-packages\\pandas\\core\\indexing.py\u001b[0m in \u001b[0;36m_get_loc\u001b[1;34m(self, key, axis)\u001b[0m\n\u001b[0;32m    626\u001b[0m \u001b[1;33m\u001b[0m\u001b[0m\n\u001b[0;32m    627\u001b[0m     \u001b[1;32mdef\u001b[0m \u001b[0m_get_loc\u001b[0m\u001b[1;33m(\u001b[0m\u001b[0mself\u001b[0m\u001b[1;33m,\u001b[0m \u001b[0mkey\u001b[0m\u001b[1;33m:\u001b[0m \u001b[0mint\u001b[0m\u001b[1;33m,\u001b[0m \u001b[0maxis\u001b[0m\u001b[1;33m:\u001b[0m \u001b[0mint\u001b[0m\u001b[1;33m)\u001b[0m\u001b[1;33m:\u001b[0m\u001b[1;33m\u001b[0m\u001b[1;33m\u001b[0m\u001b[0m\n\u001b[1;32m--> 628\u001b[1;33m         \u001b[1;32mreturn\u001b[0m \u001b[0mself\u001b[0m\u001b[1;33m.\u001b[0m\u001b[0mobj\u001b[0m\u001b[1;33m.\u001b[0m\u001b[0m_ixs\u001b[0m\u001b[1;33m(\u001b[0m\u001b[0mkey\u001b[0m\u001b[1;33m,\u001b[0m \u001b[0maxis\u001b[0m\u001b[1;33m=\u001b[0m\u001b[0maxis\u001b[0m\u001b[1;33m)\u001b[0m\u001b[1;33m\u001b[0m\u001b[1;33m\u001b[0m\u001b[0m\n\u001b[0m\u001b[0;32m    629\u001b[0m \u001b[1;33m\u001b[0m\u001b[0m\n\u001b[0;32m    630\u001b[0m     \u001b[1;32mdef\u001b[0m \u001b[0m_slice\u001b[0m\u001b[1;33m(\u001b[0m\u001b[0mself\u001b[0m\u001b[1;33m,\u001b[0m \u001b[0mobj\u001b[0m\u001b[1;33m,\u001b[0m \u001b[0maxis\u001b[0m\u001b[1;33m:\u001b[0m \u001b[0mint\u001b[0m\u001b[1;33m,\u001b[0m \u001b[0mkind\u001b[0m\u001b[1;33m=\u001b[0m\u001b[1;32mNone\u001b[0m\u001b[1;33m)\u001b[0m\u001b[1;33m:\u001b[0m\u001b[1;33m\u001b[0m\u001b[1;33m\u001b[0m\u001b[0m\n",
      "\u001b[1;32mD:\\Anaconda\\envs\\santander\\lib\\site-packages\\pandas\\core\\frame.py\u001b[0m in \u001b[0;36m_ixs\u001b[1;34m(self, i, axis)\u001b[0m\n\u001b[0;32m   2733\u001b[0m         \u001b[1;31m# irow\u001b[0m\u001b[1;33m\u001b[0m\u001b[1;33m\u001b[0m\u001b[1;33m\u001b[0m\u001b[0m\n\u001b[0;32m   2734\u001b[0m         \u001b[1;32mif\u001b[0m \u001b[0maxis\u001b[0m \u001b[1;33m==\u001b[0m \u001b[1;36m0\u001b[0m\u001b[1;33m:\u001b[0m\u001b[1;33m\u001b[0m\u001b[1;33m\u001b[0m\u001b[0m\n\u001b[1;32m-> 2735\u001b[1;33m             \u001b[0mnew_values\u001b[0m \u001b[1;33m=\u001b[0m \u001b[0mself\u001b[0m\u001b[1;33m.\u001b[0m\u001b[0m_data\u001b[0m\u001b[1;33m.\u001b[0m\u001b[0mfast_xs\u001b[0m\u001b[1;33m(\u001b[0m\u001b[0mi\u001b[0m\u001b[1;33m)\u001b[0m\u001b[1;33m\u001b[0m\u001b[1;33m\u001b[0m\u001b[0m\n\u001b[0m\u001b[0;32m   2736\u001b[0m \u001b[1;33m\u001b[0m\u001b[0m\n\u001b[0;32m   2737\u001b[0m             \u001b[1;31m# if we are a copy, mark as such\u001b[0m\u001b[1;33m\u001b[0m\u001b[1;33m\u001b[0m\u001b[1;33m\u001b[0m\u001b[0m\n",
      "\u001b[1;32mD:\\Anaconda\\envs\\santander\\lib\\site-packages\\pandas\\core\\internals\\managers.py\u001b[0m in \u001b[0;36mfast_xs\u001b[1;34m(self, loc)\u001b[0m\n\u001b[0;32m    905\u001b[0m \u001b[1;33m\u001b[0m\u001b[0m\n\u001b[0;32m    906\u001b[0m         \u001b[1;31m# unique\u001b[0m\u001b[1;33m\u001b[0m\u001b[1;33m\u001b[0m\u001b[1;33m\u001b[0m\u001b[0m\n\u001b[1;32m--> 907\u001b[1;33m         \u001b[0mdtype\u001b[0m \u001b[1;33m=\u001b[0m \u001b[0m_interleaved_dtype\u001b[0m\u001b[1;33m(\u001b[0m\u001b[0mself\u001b[0m\u001b[1;33m.\u001b[0m\u001b[0mblocks\u001b[0m\u001b[1;33m)\u001b[0m\u001b[1;33m\u001b[0m\u001b[1;33m\u001b[0m\u001b[0m\n\u001b[0m\u001b[0;32m    908\u001b[0m \u001b[1;33m\u001b[0m\u001b[0m\n\u001b[0;32m    909\u001b[0m         \u001b[0mn\u001b[0m \u001b[1;33m=\u001b[0m \u001b[0mlen\u001b[0m\u001b[1;33m(\u001b[0m\u001b[0mitems\u001b[0m\u001b[1;33m)\u001b[0m\u001b[1;33m\u001b[0m\u001b[1;33m\u001b[0m\u001b[0m\n",
      "\u001b[1;32mD:\\Anaconda\\envs\\santander\\lib\\site-packages\\pandas\\core\\internals\\managers.py\u001b[0m in \u001b[0;36m_interleaved_dtype\u001b[1;34m(blocks)\u001b[0m\n\u001b[0;32m   1870\u001b[0m         \u001b[1;32mreturn\u001b[0m \u001b[1;32mNone\u001b[0m\u001b[1;33m\u001b[0m\u001b[1;33m\u001b[0m\u001b[0m\n\u001b[0;32m   1871\u001b[0m \u001b[1;33m\u001b[0m\u001b[0m\n\u001b[1;32m-> 1872\u001b[1;33m     \u001b[1;32mreturn\u001b[0m \u001b[0mfind_common_type\u001b[0m\u001b[1;33m(\u001b[0m\u001b[1;33m[\u001b[0m\u001b[0mb\u001b[0m\u001b[1;33m.\u001b[0m\u001b[0mdtype\u001b[0m \u001b[1;32mfor\u001b[0m \u001b[0mb\u001b[0m \u001b[1;32min\u001b[0m \u001b[0mblocks\u001b[0m\u001b[1;33m]\u001b[0m\u001b[1;33m)\u001b[0m\u001b[1;33m\u001b[0m\u001b[1;33m\u001b[0m\u001b[0m\n\u001b[0m\u001b[0;32m   1873\u001b[0m \u001b[1;33m\u001b[0m\u001b[0m\n\u001b[0;32m   1874\u001b[0m \u001b[1;33m\u001b[0m\u001b[0m\n",
      "\u001b[1;32mD:\\Anaconda\\envs\\santander\\lib\\site-packages\\pandas\\core\\dtypes\\cast.py\u001b[0m in \u001b[0;36mfind_common_type\u001b[1;34m(types)\u001b[0m\n\u001b[0;32m   1365\u001b[0m     \u001b[1;31m# workaround for find_common_type([np.dtype('datetime64[ns]')] * 2)\u001b[0m\u001b[1;33m\u001b[0m\u001b[1;33m\u001b[0m\u001b[1;33m\u001b[0m\u001b[0m\n\u001b[0;32m   1366\u001b[0m     \u001b[1;31m# => object\u001b[0m\u001b[1;33m\u001b[0m\u001b[1;33m\u001b[0m\u001b[1;33m\u001b[0m\u001b[0m\n\u001b[1;32m-> 1367\u001b[1;33m     \u001b[1;32mif\u001b[0m \u001b[0mall\u001b[0m\u001b[1;33m(\u001b[0m\u001b[0mis_dtype_equal\u001b[0m\u001b[1;33m(\u001b[0m\u001b[0mfirst\u001b[0m\u001b[1;33m,\u001b[0m \u001b[0mt\u001b[0m\u001b[1;33m)\u001b[0m \u001b[1;32mfor\u001b[0m \u001b[0mt\u001b[0m \u001b[1;32min\u001b[0m \u001b[0mtypes\u001b[0m\u001b[1;33m[\u001b[0m\u001b[1;36m1\u001b[0m\u001b[1;33m:\u001b[0m\u001b[1;33m]\u001b[0m\u001b[1;33m)\u001b[0m\u001b[1;33m:\u001b[0m\u001b[1;33m\u001b[0m\u001b[1;33m\u001b[0m\u001b[0m\n\u001b[0m\u001b[0;32m   1368\u001b[0m         \u001b[1;32mreturn\u001b[0m \u001b[0mfirst\u001b[0m\u001b[1;33m\u001b[0m\u001b[1;33m\u001b[0m\u001b[0m\n\u001b[0;32m   1369\u001b[0m \u001b[1;33m\u001b[0m\u001b[0m\n",
      "\u001b[1;32mD:\\Anaconda\\envs\\santander\\lib\\site-packages\\pandas\\core\\dtypes\\cast.py\u001b[0m in \u001b[0;36m<genexpr>\u001b[1;34m(.0)\u001b[0m\n\u001b[0;32m   1365\u001b[0m     \u001b[1;31m# workaround for find_common_type([np.dtype('datetime64[ns]')] * 2)\u001b[0m\u001b[1;33m\u001b[0m\u001b[1;33m\u001b[0m\u001b[1;33m\u001b[0m\u001b[0m\n\u001b[0;32m   1366\u001b[0m     \u001b[1;31m# => object\u001b[0m\u001b[1;33m\u001b[0m\u001b[1;33m\u001b[0m\u001b[1;33m\u001b[0m\u001b[0m\n\u001b[1;32m-> 1367\u001b[1;33m     \u001b[1;32mif\u001b[0m \u001b[0mall\u001b[0m\u001b[1;33m(\u001b[0m\u001b[0mis_dtype_equal\u001b[0m\u001b[1;33m(\u001b[0m\u001b[0mfirst\u001b[0m\u001b[1;33m,\u001b[0m \u001b[0mt\u001b[0m\u001b[1;33m)\u001b[0m \u001b[1;32mfor\u001b[0m \u001b[0mt\u001b[0m \u001b[1;32min\u001b[0m \u001b[0mtypes\u001b[0m\u001b[1;33m[\u001b[0m\u001b[1;36m1\u001b[0m\u001b[1;33m:\u001b[0m\u001b[1;33m]\u001b[0m\u001b[1;33m)\u001b[0m\u001b[1;33m:\u001b[0m\u001b[1;33m\u001b[0m\u001b[1;33m\u001b[0m\u001b[0m\n\u001b[0m\u001b[0;32m   1368\u001b[0m         \u001b[1;32mreturn\u001b[0m \u001b[0mfirst\u001b[0m\u001b[1;33m\u001b[0m\u001b[1;33m\u001b[0m\u001b[0m\n\u001b[0;32m   1369\u001b[0m \u001b[1;33m\u001b[0m\u001b[0m\n",
      "\u001b[1;32mD:\\Anaconda\\envs\\santander\\lib\\site-packages\\pandas\\core\\dtypes\\common.py\u001b[0m in \u001b[0;36mis_dtype_equal\u001b[1;34m(source, target)\u001b[0m\n\u001b[0;32m    714\u001b[0m         \u001b[0msource\u001b[0m \u001b[1;33m=\u001b[0m \u001b[0m_get_dtype\u001b[0m\u001b[1;33m(\u001b[0m\u001b[0msource\u001b[0m\u001b[1;33m)\u001b[0m\u001b[1;33m\u001b[0m\u001b[1;33m\u001b[0m\u001b[0m\n\u001b[0;32m    715\u001b[0m         \u001b[0mtarget\u001b[0m \u001b[1;33m=\u001b[0m \u001b[0m_get_dtype\u001b[0m\u001b[1;33m(\u001b[0m\u001b[0mtarget\u001b[0m\u001b[1;33m)\u001b[0m\u001b[1;33m\u001b[0m\u001b[1;33m\u001b[0m\u001b[0m\n\u001b[1;32m--> 716\u001b[1;33m         \u001b[1;32mreturn\u001b[0m \u001b[0msource\u001b[0m \u001b[1;33m==\u001b[0m \u001b[0mtarget\u001b[0m\u001b[1;33m\u001b[0m\u001b[1;33m\u001b[0m\u001b[0m\n\u001b[0m\u001b[0;32m    717\u001b[0m     \u001b[1;32mexcept\u001b[0m \u001b[1;33m(\u001b[0m\u001b[0mTypeError\u001b[0m\u001b[1;33m,\u001b[0m \u001b[0mAttributeError\u001b[0m\u001b[1;33m)\u001b[0m\u001b[1;33m:\u001b[0m\u001b[1;33m\u001b[0m\u001b[1;33m\u001b[0m\u001b[0m\n\u001b[0;32m    718\u001b[0m \u001b[1;33m\u001b[0m\u001b[0m\n",
      "\u001b[1;32mD:\\Anaconda\\envs\\santander\\lib\\site-packages\\pandas\\core\\dtypes\\dtypes.py\u001b[0m in \u001b[0;36m__eq__\u001b[1;34m(self, other)\u001b[0m\n\u001b[0;32m    433\u001b[0m                 \u001b[1;31m# Check and see if they happen to be identical categories\u001b[0m\u001b[1;33m\u001b[0m\u001b[1;33m\u001b[0m\u001b[1;33m\u001b[0m\u001b[0m\n\u001b[0;32m    434\u001b[0m                 \u001b[1;32mreturn\u001b[0m \u001b[1;32mTrue\u001b[0m\u001b[1;33m\u001b[0m\u001b[1;33m\u001b[0m\u001b[0m\n\u001b[1;32m--> 435\u001b[1;33m             \u001b[1;32mreturn\u001b[0m \u001b[0mhash\u001b[0m\u001b[1;33m(\u001b[0m\u001b[0mself\u001b[0m\u001b[1;33m)\u001b[0m \u001b[1;33m==\u001b[0m \u001b[0mhash\u001b[0m\u001b[1;33m(\u001b[0m\u001b[0mother\u001b[0m\u001b[1;33m)\u001b[0m\u001b[1;33m\u001b[0m\u001b[1;33m\u001b[0m\u001b[0m\n\u001b[0m\u001b[0;32m    436\u001b[0m \u001b[1;33m\u001b[0m\u001b[0m\n\u001b[0;32m    437\u001b[0m     \u001b[1;32mdef\u001b[0m \u001b[0m__repr__\u001b[0m\u001b[1;33m(\u001b[0m\u001b[0mself\u001b[0m\u001b[1;33m)\u001b[0m \u001b[1;33m->\u001b[0m \u001b[0mstr_type\u001b[0m\u001b[1;33m:\u001b[0m\u001b[1;33m\u001b[0m\u001b[1;33m\u001b[0m\u001b[0m\n",
      "\u001b[1;32mD:\\Anaconda\\envs\\santander\\lib\\site-packages\\pandas\\core\\dtypes\\dtypes.py\u001b[0m in \u001b[0;36m__hash__\u001b[1;34m(self)\u001b[0m\n\u001b[0;32m    388\u001b[0m                 \u001b[1;32mreturn\u001b[0m \u001b[1;33m-\u001b[0m\u001b[1;36m2\u001b[0m\u001b[1;33m\u001b[0m\u001b[1;33m\u001b[0m\u001b[0m\n\u001b[0;32m    389\u001b[0m         \u001b[1;31m# We *do* want to include the real self.ordered here\u001b[0m\u001b[1;33m\u001b[0m\u001b[1;33m\u001b[0m\u001b[1;33m\u001b[0m\u001b[0m\n\u001b[1;32m--> 390\u001b[1;33m         \u001b[1;32mreturn\u001b[0m \u001b[0mint\u001b[0m\u001b[1;33m(\u001b[0m\u001b[0mself\u001b[0m\u001b[1;33m.\u001b[0m\u001b[0m_hash_categories\u001b[0m\u001b[1;33m(\u001b[0m\u001b[0mself\u001b[0m\u001b[1;33m.\u001b[0m\u001b[0mcategories\u001b[0m\u001b[1;33m,\u001b[0m \u001b[0mself\u001b[0m\u001b[1;33m.\u001b[0m\u001b[0mordered\u001b[0m\u001b[1;33m)\u001b[0m\u001b[1;33m)\u001b[0m\u001b[1;33m\u001b[0m\u001b[1;33m\u001b[0m\u001b[0m\n\u001b[0m\u001b[0;32m    391\u001b[0m \u001b[1;33m\u001b[0m\u001b[0m\n\u001b[0;32m    392\u001b[0m     \u001b[1;32mdef\u001b[0m \u001b[0m__eq__\u001b[0m\u001b[1;33m(\u001b[0m\u001b[0mself\u001b[0m\u001b[1;33m,\u001b[0m \u001b[0mother\u001b[0m\u001b[1;33m:\u001b[0m \u001b[0mAny\u001b[0m\u001b[1;33m)\u001b[0m \u001b[1;33m->\u001b[0m \u001b[0mbool\u001b[0m\u001b[1;33m:\u001b[0m\u001b[1;33m\u001b[0m\u001b[1;33m\u001b[0m\u001b[0m\n",
      "\u001b[1;32mD:\\Anaconda\\envs\\santander\\lib\\site-packages\\pandas\\core\\dtypes\\dtypes.py\u001b[0m in \u001b[0;36m_hash_categories\u001b[1;34m(categories, ordered)\u001b[0m\n\u001b[0;32m    479\u001b[0m         \u001b[1;32melse\u001b[0m\u001b[1;33m:\u001b[0m\u001b[1;33m\u001b[0m\u001b[1;33m\u001b[0m\u001b[0m\n\u001b[0;32m    480\u001b[0m             \u001b[0mcat_array\u001b[0m \u001b[1;33m=\u001b[0m \u001b[1;33m[\u001b[0m\u001b[0mcat_array\u001b[0m\u001b[1;33m]\u001b[0m\u001b[1;33m\u001b[0m\u001b[1;33m\u001b[0m\u001b[0m\n\u001b[1;32m--> 481\u001b[1;33m         \u001b[0mhashed\u001b[0m \u001b[1;33m=\u001b[0m \u001b[0m_combine_hash_arrays\u001b[0m\u001b[1;33m(\u001b[0m\u001b[0miter\u001b[0m\u001b[1;33m(\u001b[0m\u001b[0mcat_array\u001b[0m\u001b[1;33m)\u001b[0m\u001b[1;33m,\u001b[0m \u001b[0mnum_items\u001b[0m\u001b[1;33m=\u001b[0m\u001b[0mlen\u001b[0m\u001b[1;33m(\u001b[0m\u001b[0mcat_array\u001b[0m\u001b[1;33m)\u001b[0m\u001b[1;33m)\u001b[0m\u001b[1;33m\u001b[0m\u001b[1;33m\u001b[0m\u001b[0m\n\u001b[0m\u001b[0;32m    482\u001b[0m         \u001b[1;32mreturn\u001b[0m \u001b[0mnp\u001b[0m\u001b[1;33m.\u001b[0m\u001b[0mbitwise_xor\u001b[0m\u001b[1;33m.\u001b[0m\u001b[0mreduce\u001b[0m\u001b[1;33m(\u001b[0m\u001b[0mhashed\u001b[0m\u001b[1;33m)\u001b[0m\u001b[1;33m\u001b[0m\u001b[1;33m\u001b[0m\u001b[0m\n\u001b[0;32m    483\u001b[0m \u001b[1;33m\u001b[0m\u001b[0m\n",
      "\u001b[1;32mD:\\Anaconda\\envs\\santander\\lib\\site-packages\\pandas\\core\\util\\hashing.py\u001b[0m in \u001b[0;36m_combine_hash_arrays\u001b[1;34m(arrays, num_items)\u001b[0m\n\u001b[0;32m     45\u001b[0m \u001b[1;33m\u001b[0m\u001b[0m\n\u001b[0;32m     46\u001b[0m     \u001b[0mmult\u001b[0m \u001b[1;33m=\u001b[0m \u001b[0mnp\u001b[0m\u001b[1;33m.\u001b[0m\u001b[0muint64\u001b[0m\u001b[1;33m(\u001b[0m\u001b[1;36m1000003\u001b[0m\u001b[1;33m)\u001b[0m\u001b[1;33m\u001b[0m\u001b[1;33m\u001b[0m\u001b[0m\n\u001b[1;32m---> 47\u001b[1;33m     \u001b[0mout\u001b[0m \u001b[1;33m=\u001b[0m \u001b[0mnp\u001b[0m\u001b[1;33m.\u001b[0m\u001b[0mzeros_like\u001b[0m\u001b[1;33m(\u001b[0m\u001b[0mfirst\u001b[0m\u001b[1;33m)\u001b[0m \u001b[1;33m+\u001b[0m \u001b[0mnp\u001b[0m\u001b[1;33m.\u001b[0m\u001b[0muint64\u001b[0m\u001b[1;33m(\u001b[0m\u001b[1;36m0x345678\u001b[0m\u001b[1;33m)\u001b[0m\u001b[1;33m\u001b[0m\u001b[1;33m\u001b[0m\u001b[0m\n\u001b[0m\u001b[0;32m     48\u001b[0m     \u001b[1;32mfor\u001b[0m \u001b[0mi\u001b[0m\u001b[1;33m,\u001b[0m \u001b[0ma\u001b[0m \u001b[1;32min\u001b[0m \u001b[0menumerate\u001b[0m\u001b[1;33m(\u001b[0m\u001b[0marrays\u001b[0m\u001b[1;33m)\u001b[0m\u001b[1;33m:\u001b[0m\u001b[1;33m\u001b[0m\u001b[1;33m\u001b[0m\u001b[0m\n\u001b[0;32m     49\u001b[0m         \u001b[0minverse_i\u001b[0m \u001b[1;33m=\u001b[0m \u001b[0mnum_items\u001b[0m \u001b[1;33m-\u001b[0m \u001b[0mi\u001b[0m\u001b[1;33m\u001b[0m\u001b[1;33m\u001b[0m\u001b[0m\n",
      "\u001b[1;32m<__array_function__ internals>\u001b[0m in \u001b[0;36mzeros_like\u001b[1;34m(*args, **kwargs)\u001b[0m\n",
      "\u001b[1;32mD:\\Anaconda\\envs\\santander\\lib\\site-packages\\numpy\\core\\numeric.py\u001b[0m in \u001b[0;36mzeros_like\u001b[1;34m(a, dtype, order, subok, shape)\u001b[0m\n\u001b[0;32m    153\u001b[0m     \u001b[1;31m# needed instead of a 0 to get same result as zeros for for string dtypes\u001b[0m\u001b[1;33m\u001b[0m\u001b[1;33m\u001b[0m\u001b[1;33m\u001b[0m\u001b[0m\n\u001b[0;32m    154\u001b[0m     \u001b[0mz\u001b[0m \u001b[1;33m=\u001b[0m \u001b[0mzeros\u001b[0m\u001b[1;33m(\u001b[0m\u001b[1;36m1\u001b[0m\u001b[1;33m,\u001b[0m \u001b[0mdtype\u001b[0m\u001b[1;33m=\u001b[0m\u001b[0mres\u001b[0m\u001b[1;33m.\u001b[0m\u001b[0mdtype\u001b[0m\u001b[1;33m)\u001b[0m\u001b[1;33m\u001b[0m\u001b[1;33m\u001b[0m\u001b[0m\n\u001b[1;32m--> 155\u001b[1;33m     \u001b[0mmultiarray\u001b[0m\u001b[1;33m.\u001b[0m\u001b[0mcopyto\u001b[0m\u001b[1;33m(\u001b[0m\u001b[0mres\u001b[0m\u001b[1;33m,\u001b[0m \u001b[0mz\u001b[0m\u001b[1;33m,\u001b[0m \u001b[0mcasting\u001b[0m\u001b[1;33m=\u001b[0m\u001b[1;34m'unsafe'\u001b[0m\u001b[1;33m)\u001b[0m\u001b[1;33m\u001b[0m\u001b[1;33m\u001b[0m\u001b[0m\n\u001b[0m\u001b[0;32m    156\u001b[0m     \u001b[1;32mreturn\u001b[0m \u001b[0mres\u001b[0m\u001b[1;33m\u001b[0m\u001b[1;33m\u001b[0m\u001b[0m\n\u001b[0;32m    157\u001b[0m \u001b[1;33m\u001b[0m\u001b[0m\n",
      "\u001b[1;32m<__array_function__ internals>\u001b[0m in \u001b[0;36mcopyto\u001b[1;34m(*args, **kwargs)\u001b[0m\n",
      "\u001b[1;31mKeyboardInterrupt\u001b[0m: "
     ]
    }
   ],
   "source": [
    "predict(reconstruct, 0.03, 4, df)"
   ]
  },
  {
   "cell_type": "markdown",
   "metadata": {},
   "source": [
    "### Dictionary Learning"
   ]
  },
  {
   "cell_type": "code",
   "execution_count": 77,
   "metadata": {},
   "outputs": [],
   "source": [
    "from sklearn.decomposition import DictionaryLearning, MiniBatchDictionaryLearning \n",
    "from sklearn.preprocessing import StandardScaler, Normalizer, MinMaxScaler\n",
    "from time import time\n",
    "\n",
    "def dictionary_learning(data):\n",
    "    t0 = time()\n",
    "    dico = MiniBatchDictionaryLearning(n_components=20,alpha=0.7, n_iter=1000,transform_algorithm='lasso_lars')\n",
    "#     dico = DictionaryLearning(n_components=20, alpha=0.7,transform_algorithm='lasso_lars')\n",
    "    dico = dico.fit(data)\n",
    "    dt = time() - t0\n",
    "    print(\"done in {}\".format(dt))\n",
    "    return dico"
   ]
  },
  {
   "cell_type": "code",
   "execution_count": 78,
   "metadata": {},
   "outputs": [
    {
     "name": "stdout",
     "output_type": "stream",
     "text": [
      "done in 8.20355749130249\n"
     ]
    }
   ],
   "source": [
    "dico = dictionary_learning(x_1)"
   ]
  },
  {
   "cell_type": "code",
   "execution_count": 79,
   "metadata": {},
   "outputs": [],
   "source": [
    "U = dico.transform(x_1)"
   ]
  },
  {
   "cell_type": "code",
   "execution_count": 61,
   "metadata": {},
   "outputs": [
    {
     "data": {
      "text/plain": [
       "(925252, 20)"
      ]
     },
     "execution_count": 61,
     "metadata": {},
     "output_type": "execute_result"
    }
   ],
   "source": [
    "#User vector\n",
    "U.shape"
   ]
  },
  {
   "cell_type": "code",
   "execution_count": 63,
   "metadata": {},
   "outputs": [
    {
     "data": {
      "text/plain": [
       "(20, 24)"
      ]
     },
     "execution_count": 63,
     "metadata": {},
     "output_type": "execute_result"
    }
   ],
   "source": [
    "# Products Vector : extracted components\n",
    "V = dico.components_\n",
    "V.shape"
   ]
  },
  {
   "cell_type": "code",
   "execution_count": 70,
   "metadata": {},
   "outputs": [],
   "source": [
    "# Reconstructed matrix using a dictionary\n",
    "reconstruct_with_dico = U.dot(V)"
   ]
  },
  {
   "cell_type": "code",
   "execution_count": 121,
   "metadata": {},
   "outputs": [
    {
     "data": {
      "text/plain": [
       "ncodpers                    int64\n",
       "ind_empleado             category\n",
       "pais_residencia          category\n",
       "sexo                     category\n",
       "age                         int32\n",
       "ind_nuevo                category\n",
       "antiguedad                  int64\n",
       "indrel                      int64\n",
       "ult_fec_cli_1t             object\n",
       "indrel_1mes              category\n",
       "tiprel_1mes              category\n",
       "indresi                    object\n",
       "indext                     object\n",
       "conyuemp                   object\n",
       "canal_entrada              object\n",
       "indfall                    object\n",
       "ind_actividad_cliente     float64\n",
       "renta                     float64\n",
       "segmento                   object\n",
       "dtype: object"
      ]
     },
     "execution_count": 121,
     "metadata": {},
     "output_type": "execute_result"
    }
   ],
   "source": [
    "cls_cols = [\"ncodpers\",\"ind_empleado\",\"pais_residencia\",\"sexo\",\"age\",\"ind_nuevo\",\"antiguedad\",\"indrel\",\"ult_fec_cli_1t\",\"indrel_1mes\",\"tiprel_1mes\",\"indresi\",\"indext\",\"conyuemp\",\"canal_entrada\",\"indfall\",\"ind_actividad_cliente\",\"renta\",\"segmento\"]\n",
    "batch_cls[cls_cols].dtypes"
   ]
  },
  {
   "cell_type": "code",
   "execution_count": 146,
   "metadata": {},
   "outputs": [],
   "source": [
    "batch_cls = batch_2.copy()\n",
    "batch_cls[\"fidelity\"] =  batch_cls.fecha_dato - batch_cls.fecha_alta "
   ]
  },
  {
   "cell_type": "code",
   "execution_count": 147,
   "metadata": {},
   "outputs": [],
   "source": [
    "batch_cls[\"fidelity\"] = batch_cls[\"fidelity\"].dt.days"
   ]
  },
  {
   "cell_type": "code",
   "execution_count": 154,
   "metadata": {},
   "outputs": [
    {
     "data": {
      "text/html": [
       "<div>\n",
       "<style scoped>\n",
       "    .dataframe tbody tr th:only-of-type {\n",
       "        vertical-align: middle;\n",
       "    }\n",
       "\n",
       "    .dataframe tbody tr th {\n",
       "        vertical-align: top;\n",
       "    }\n",
       "\n",
       "    .dataframe thead th {\n",
       "        text-align: right;\n",
       "    }\n",
       "</style>\n",
       "<table border=\"1\" class=\"dataframe\">\n",
       "  <thead>\n",
       "    <tr style=\"text-align: right;\">\n",
       "      <th></th>\n",
       "      <th>ncodpers</th>\n",
       "      <th>ind_empleado</th>\n",
       "      <th>pais_residencia</th>\n",
       "      <th>sexo</th>\n",
       "      <th>age</th>\n",
       "      <th>ind_nuevo</th>\n",
       "      <th>antiguedad</th>\n",
       "      <th>indrel</th>\n",
       "      <th>ult_fec_cli_1t</th>\n",
       "      <th>indrel_1mes</th>\n",
       "      <th>tiprel_1mes</th>\n",
       "      <th>indresi</th>\n",
       "      <th>indext</th>\n",
       "      <th>conyuemp</th>\n",
       "      <th>canal_entrada</th>\n",
       "      <th>indfall</th>\n",
       "      <th>ind_actividad_cliente</th>\n",
       "      <th>renta</th>\n",
       "      <th>segmento</th>\n",
       "      <th>fidelity</th>\n",
       "    </tr>\n",
       "  </thead>\n",
       "  <tbody>\n",
       "    <tr>\n",
       "      <th>1859726</th>\n",
       "      <td>280596</td>\n",
       "      <td>N</td>\n",
       "      <td>ES</td>\n",
       "      <td>2</td>\n",
       "      <td>47</td>\n",
       "      <td>0</td>\n",
       "      <td>174</td>\n",
       "      <td>1</td>\n",
       "      <td>UNKNOWN</td>\n",
       "      <td>1</td>\n",
       "      <td>I</td>\n",
       "      <td>S</td>\n",
       "      <td>N</td>\n",
       "      <td>UNKNOWN</td>\n",
       "      <td>KAB</td>\n",
       "      <td>N</td>\n",
       "      <td>0.0</td>\n",
       "      <td>156417.69</td>\n",
       "      <td>02 - PARTICULARES</td>\n",
       "      <td>5315</td>\n",
       "    </tr>\n",
       "    <tr>\n",
       "      <th>1399308</th>\n",
       "      <td>827766</td>\n",
       "      <td>N</td>\n",
       "      <td>ES</td>\n",
       "      <td>2</td>\n",
       "      <td>51</td>\n",
       "      <td>0</td>\n",
       "      <td>87</td>\n",
       "      <td>1</td>\n",
       "      <td>UNKNOWN</td>\n",
       "      <td>1</td>\n",
       "      <td>I</td>\n",
       "      <td>S</td>\n",
       "      <td>N</td>\n",
       "      <td>UNKNOWN</td>\n",
       "      <td>KAT</td>\n",
       "      <td>N</td>\n",
       "      <td>0.0</td>\n",
       "      <td>98787.96</td>\n",
       "      <td>02 - PARTICULARES</td>\n",
       "      <td>2654</td>\n",
       "    </tr>\n",
       "    <tr>\n",
       "      <th>1399305</th>\n",
       "      <td>1175262</td>\n",
       "      <td>N</td>\n",
       "      <td>ES</td>\n",
       "      <td>2</td>\n",
       "      <td>35</td>\n",
       "      <td>0</td>\n",
       "      <td>31</td>\n",
       "      <td>1</td>\n",
       "      <td>UNKNOWN</td>\n",
       "      <td>1</td>\n",
       "      <td>I</td>\n",
       "      <td>S</td>\n",
       "      <td>N</td>\n",
       "      <td>UNKNOWN</td>\n",
       "      <td>KAT</td>\n",
       "      <td>N</td>\n",
       "      <td>0.0</td>\n",
       "      <td>98787.96</td>\n",
       "      <td>02 - PARTICULARES</td>\n",
       "      <td>959</td>\n",
       "    </tr>\n",
       "    <tr>\n",
       "      <th>1399303</th>\n",
       "      <td>161962</td>\n",
       "      <td>N</td>\n",
       "      <td>ES</td>\n",
       "      <td>2</td>\n",
       "      <td>46</td>\n",
       "      <td>0</td>\n",
       "      <td>194</td>\n",
       "      <td>1</td>\n",
       "      <td>UNKNOWN</td>\n",
       "      <td>1</td>\n",
       "      <td>A</td>\n",
       "      <td>S</td>\n",
       "      <td>N</td>\n",
       "      <td>UNKNOWN</td>\n",
       "      <td>KAT</td>\n",
       "      <td>N</td>\n",
       "      <td>0.0</td>\n",
       "      <td>98787.96</td>\n",
       "      <td>02 - PARTICULARES</td>\n",
       "      <td>5911</td>\n",
       "    </tr>\n",
       "    <tr>\n",
       "      <th>1399302</th>\n",
       "      <td>862373</td>\n",
       "      <td>N</td>\n",
       "      <td>ES</td>\n",
       "      <td>0</td>\n",
       "      <td>25</td>\n",
       "      <td>0</td>\n",
       "      <td>75</td>\n",
       "      <td>1</td>\n",
       "      <td>UNKNOWN</td>\n",
       "      <td>1</td>\n",
       "      <td>A</td>\n",
       "      <td>S</td>\n",
       "      <td>N</td>\n",
       "      <td>UNKNOWN</td>\n",
       "      <td>KAT</td>\n",
       "      <td>N</td>\n",
       "      <td>1.0</td>\n",
       "      <td>98787.96</td>\n",
       "      <td>03 - UNIVERSITARIO</td>\n",
       "      <td>2288</td>\n",
       "    </tr>\n",
       "  </tbody>\n",
       "</table>\n",
       "</div>"
      ],
      "text/plain": [
       "         ncodpers ind_empleado pais_residencia  sexo  age ind_nuevo  \\\n",
       "1859726    280596            N              ES     2   47         0   \n",
       "1399308    827766            N              ES     2   51         0   \n",
       "1399305   1175262            N              ES     2   35         0   \n",
       "1399303    161962            N              ES     2   46         0   \n",
       "1399302    862373            N              ES     0   25         0   \n",
       "\n",
       "         antiguedad  indrel ult_fec_cli_1t indrel_1mes tiprel_1mes indresi  \\\n",
       "1859726         174       1        UNKNOWN           1           I       S   \n",
       "1399308          87       1        UNKNOWN           1           I       S   \n",
       "1399305          31       1        UNKNOWN           1           I       S   \n",
       "1399303         194       1        UNKNOWN           1           A       S   \n",
       "1399302          75       1        UNKNOWN           1           A       S   \n",
       "\n",
       "        indext conyuemp canal_entrada indfall  ind_actividad_cliente  \\\n",
       "1859726      N  UNKNOWN           KAB       N                    0.0   \n",
       "1399308      N  UNKNOWN           KAT       N                    0.0   \n",
       "1399305      N  UNKNOWN           KAT       N                    0.0   \n",
       "1399303      N  UNKNOWN           KAT       N                    0.0   \n",
       "1399302      N  UNKNOWN           KAT       N                    1.0   \n",
       "\n",
       "             renta            segmento  fidelity  \n",
       "1859726  156417.69   02 - PARTICULARES      5315  \n",
       "1399308   98787.96   02 - PARTICULARES      2654  \n",
       "1399305   98787.96   02 - PARTICULARES       959  \n",
       "1399303   98787.96   02 - PARTICULARES      5911  \n",
       "1399302   98787.96  03 - UNIVERSITARIO      2288  "
      ]
     },
     "execution_count": 154,
     "metadata": {},
     "output_type": "execute_result"
    }
   ],
   "source": [
    "cls_cols.append(\"fidelity\")\n",
    "batch_cls[cls_cols].head()"
   ]
  },
  {
   "cell_type": "code",
   "execution_count": 155,
   "metadata": {},
   "outputs": [
    {
     "data": {
      "text/plain": [
       "ncodpers                    int64\n",
       "ind_empleado             category\n",
       "pais_residencia          category\n",
       "sexo                         int8\n",
       "age                         int32\n",
       "ind_nuevo                category\n",
       "antiguedad                  int64\n",
       "indrel                      int64\n",
       "ult_fec_cli_1t             object\n",
       "indrel_1mes              category\n",
       "tiprel_1mes              category\n",
       "indresi                  category\n",
       "indext                   category\n",
       "conyuemp                 category\n",
       "canal_entrada            category\n",
       "indfall                  category\n",
       "ind_actividad_cliente     float64\n",
       "renta                     float64\n",
       "segmento                 category\n",
       "fidelity                    int64\n",
       "dtype: object"
      ]
     },
     "execution_count": 155,
     "metadata": {},
     "output_type": "execute_result"
    }
   ],
   "source": [
    "batch_cls[cls_cols].dtypes"
   ]
  },
  {
   "cell_type": "code",
   "execution_count": 150,
   "metadata": {},
   "outputs": [],
   "source": [
    "def convert_to_category(df,col):\n",
    "    df = df.copy()\n",
    "    df[col] = df[col].astype(\"category\")\n",
    "    return df\n",
    "\n",
    "batch_cls = convert_to_category(batch_cls,\"ind_empleado\")\n",
    "batch_cls = convert_to_category(batch_cls,\"pais_residencia\")\n",
    "batch_cls = convert_to_category(batch_cls,\"sexo\")\n",
    "batch_cls = convert_to_category(batch_cls,\"ind_nuevo\")\n",
    "batch_cls = convert_to_category(batch_cls,\"indresi\")\n",
    "batch_cls = convert_to_category(batch_cls,\"indext\")\n",
    "batch_cls = convert_to_category(batch_cls,\"conyuemp\")\n",
    "batch_cls = convert_to_category(batch_cls,\"canal_entrada\")\n",
    "batch_cls = convert_to_category(batch_cls,\"indfall\")\n",
    "batch_cls = convert_to_category(batch_cls,\"segmento\")\n"
   ]
  },
  {
   "cell_type": "code",
   "execution_count": 168,
   "metadata": {},
   "outputs": [],
   "source": [
    "batch_cls = convert_to_category(batch_cls,\"ult_fec_cli_1t\")"
   ]
  },
  {
   "cell_type": "code",
   "execution_count": 157,
   "metadata": {},
   "outputs": [],
   "source": [
    "def convert_category_to_num(df, col):\n",
    "    df = df.copy()\n",
    "    df[col] = df[col].cat.codes\n",
    "    return df\n",
    "\n",
    "# batch_cls = convert_category_to_num(batch_cls,\"sexo\")\n",
    "batch_cls = convert_category_to_num(batch_cls,\"ind_empleado\")\n",
    "batch_cls = convert_category_to_num(batch_cls,\"pais_residencia\")\n",
    "batch_cls = convert_category_to_num(batch_cls,\"ind_nuevo\")\n",
    "batch_cls = convert_category_to_num(batch_cls,\"indresi\")\n",
    "batch_cls = convert_category_to_num(batch_cls,\"indext\")\n",
    "batch_cls = convert_category_to_num(batch_cls,\"conyuemp\")\n",
    "batch_cls = convert_category_to_num(batch_cls,\"canal_entrada\")\n",
    "batch_cls = convert_category_to_num(batch_cls,\"indfall\")\n",
    "batch_cls = convert_category_to_num(batch_cls,\"segmento\")\n"
   ]
  },
  {
   "cell_type": "code",
   "execution_count": 160,
   "metadata": {},
   "outputs": [],
   "source": [
    "batch_cls = convert_category_to_num(batch_cls,\"indrel_1mes\")\n",
    "batch_cls = convert_category_to_num(batch_cls,\"tiprel_1mes\")\n"
   ]
  },
  {
   "cell_type": "code",
   "execution_count": 169,
   "metadata": {},
   "outputs": [],
   "source": [
    "batch_cls = convert_category_to_num(batch_cls,\"ult_fec_cli_1t\")"
   ]
  },
  {
   "cell_type": "code",
   "execution_count": 170,
   "metadata": {},
   "outputs": [
    {
     "data": {
      "text/plain": [
       "ncodpers                   int64\n",
       "ind_empleado                int8\n",
       "pais_residencia             int8\n",
       "sexo                        int8\n",
       "age                        int32\n",
       "ind_nuevo                   int8\n",
       "antiguedad                 int64\n",
       "indrel                     int64\n",
       "ult_fec_cli_1t              int8\n",
       "indrel_1mes                 int8\n",
       "tiprel_1mes                 int8\n",
       "indresi                     int8\n",
       "indext                      int8\n",
       "conyuemp                    int8\n",
       "canal_entrada              int16\n",
       "indfall                     int8\n",
       "ind_actividad_cliente    float64\n",
       "renta                    float64\n",
       "segmento                    int8\n",
       "fidelity                   int64\n",
       "dtype: object"
      ]
     },
     "execution_count": 170,
     "metadata": {},
     "output_type": "execute_result"
    }
   ],
   "source": [
    "batch_cls[cls_cols].dtypes"
   ]
  },
  {
   "cell_type": "code",
   "execution_count": 163,
   "metadata": {},
   "outputs": [],
   "source": [
    "Y_cls = batch_1[cols]"
   ]
  },
  {
   "cell_type": "code",
   "execution_count": 167,
   "metadata": {},
   "outputs": [
    {
     "data": {
      "text/plain": [
       "ind_empleado                int8\n",
       "pais_residencia             int8\n",
       "sexo                        int8\n",
       "age                        int32\n",
       "ind_nuevo                   int8\n",
       "antiguedad                 int64\n",
       "indrel                     int64\n",
       "ult_fec_cli_1t            object\n",
       "indrel_1mes                 int8\n",
       "tiprel_1mes                 int8\n",
       "indresi                     int8\n",
       "indext                      int8\n",
       "conyuemp                    int8\n",
       "canal_entrada              int16\n",
       "indfall                     int8\n",
       "ind_actividad_cliente    float64\n",
       "renta                    float64\n",
       "segmento                    int8\n",
       "fidelity                   int64\n",
       "dtype: object"
      ]
     },
     "execution_count": 167,
     "metadata": {},
     "output_type": "execute_result"
    }
   ],
   "source": [
    "batch_cls[cls_cols[1:]].dtypes"
   ]
  },
  {
   "cell_type": "code",
   "execution_count": null,
   "metadata": {},
   "outputs": [],
   "source": [
    "from sklearn import svm\n",
    "def train_svm(X, Y, colons):\n",
    "    svms = []\n",
    "    for k in colons:\n",
    "        clf = svm.SVC()\n",
    "        clf = clf.fit(X,Y[k])\n",
    "        svms.append(clf)\n",
    "    return svms\n",
    "\n",
    "train_svm(batch_cls[cls_cols[1:]], Y_cls, cols)"
   ]
  },
  {
   "cell_type": "code",
   "execution_count": 127,
   "metadata": {},
   "outputs": [
    {
     "ename": "ValueError",
     "evalue": "could not convert string to float: 'N'",
     "output_type": "error",
     "traceback": [
      "\u001b[1;31m---------------------------------------------------------------------------\u001b[0m",
      "\u001b[1;31mValueError\u001b[0m                                Traceback (most recent call last)",
      "\u001b[1;32m<ipython-input-127-ae036f96501c>\u001b[0m in \u001b[0;36m<module>\u001b[1;34m\u001b[0m\n\u001b[0;32m      1\u001b[0m \u001b[0mdico\u001b[0m \u001b[1;33m=\u001b[0m \u001b[0mMiniBatchDictionaryLearning\u001b[0m\u001b[1;33m(\u001b[0m\u001b[0mn_components\u001b[0m\u001b[1;33m=\u001b[0m\u001b[1;36m20\u001b[0m\u001b[1;33m,\u001b[0m\u001b[0malpha\u001b[0m\u001b[1;33m=\u001b[0m\u001b[1;36m0.7\u001b[0m\u001b[1;33m,\u001b[0m \u001b[0mn_iter\u001b[0m\u001b[1;33m=\u001b[0m\u001b[1;36m1000\u001b[0m\u001b[1;33m,\u001b[0m\u001b[0mtransform_algorithm\u001b[0m\u001b[1;33m=\u001b[0m\u001b[1;34m'lasso_lars'\u001b[0m\u001b[1;33m)\u001b[0m\u001b[1;33m\u001b[0m\u001b[1;33m\u001b[0m\u001b[0m\n\u001b[1;32m----> 2\u001b[1;33m \u001b[0mdico\u001b[0m\u001b[1;33m.\u001b[0m\u001b[0mfit\u001b[0m\u001b[1;33m(\u001b[0m\u001b[0mbatch_cls\u001b[0m\u001b[1;33m[\u001b[0m\u001b[0mcls_cols\u001b[0m\u001b[1;33m]\u001b[0m\u001b[1;33m.\u001b[0m\u001b[0mvalues\u001b[0m\u001b[1;33m)\u001b[0m\u001b[1;33m\u001b[0m\u001b[1;33m\u001b[0m\u001b[0m\n\u001b[0m",
      "\u001b[1;32mD:\\Anaconda\\envs\\santander\\lib\\site-packages\\sklearn\\decomposition\\_dict_learning.py\u001b[0m in \u001b[0;36mfit\u001b[1;34m(self, X, y)\u001b[0m\n\u001b[0;32m   1435\u001b[0m         \"\"\"\n\u001b[0;32m   1436\u001b[0m         \u001b[0mrandom_state\u001b[0m \u001b[1;33m=\u001b[0m \u001b[0mcheck_random_state\u001b[0m\u001b[1;33m(\u001b[0m\u001b[0mself\u001b[0m\u001b[1;33m.\u001b[0m\u001b[0mrandom_state\u001b[0m\u001b[1;33m)\u001b[0m\u001b[1;33m\u001b[0m\u001b[1;33m\u001b[0m\u001b[0m\n\u001b[1;32m-> 1437\u001b[1;33m         \u001b[0mX\u001b[0m \u001b[1;33m=\u001b[0m \u001b[0mself\u001b[0m\u001b[1;33m.\u001b[0m\u001b[0m_validate_data\u001b[0m\u001b[1;33m(\u001b[0m\u001b[0mX\u001b[0m\u001b[1;33m)\u001b[0m\u001b[1;33m\u001b[0m\u001b[1;33m\u001b[0m\u001b[0m\n\u001b[0m\u001b[0;32m   1438\u001b[0m \u001b[1;33m\u001b[0m\u001b[0m\n\u001b[0;32m   1439\u001b[0m         U, (A, B), self.n_iter_ = dict_learning_online(\n",
      "\u001b[1;32mD:\\Anaconda\\envs\\santander\\lib\\site-packages\\sklearn\\base.py\u001b[0m in \u001b[0;36m_validate_data\u001b[1;34m(self, X, y, reset, validate_separately, **check_params)\u001b[0m\n\u001b[0;32m    418\u001b[0m                     \u001b[1;34mf\"requires y to be passed, but the target y is None.\"\u001b[0m\u001b[1;33m\u001b[0m\u001b[1;33m\u001b[0m\u001b[0m\n\u001b[0;32m    419\u001b[0m                 )\n\u001b[1;32m--> 420\u001b[1;33m             \u001b[0mX\u001b[0m \u001b[1;33m=\u001b[0m \u001b[0mcheck_array\u001b[0m\u001b[1;33m(\u001b[0m\u001b[0mX\u001b[0m\u001b[1;33m,\u001b[0m \u001b[1;33m**\u001b[0m\u001b[0mcheck_params\u001b[0m\u001b[1;33m)\u001b[0m\u001b[1;33m\u001b[0m\u001b[1;33m\u001b[0m\u001b[0m\n\u001b[0m\u001b[0;32m    421\u001b[0m             \u001b[0mout\u001b[0m \u001b[1;33m=\u001b[0m \u001b[0mX\u001b[0m\u001b[1;33m\u001b[0m\u001b[1;33m\u001b[0m\u001b[0m\n\u001b[0;32m    422\u001b[0m         \u001b[1;32melse\u001b[0m\u001b[1;33m:\u001b[0m\u001b[1;33m\u001b[0m\u001b[1;33m\u001b[0m\u001b[0m\n",
      "\u001b[1;32mD:\\Anaconda\\envs\\santander\\lib\\site-packages\\sklearn\\utils\\validation.py\u001b[0m in \u001b[0;36minner_f\u001b[1;34m(*args, **kwargs)\u001b[0m\n\u001b[0;32m     71\u001b[0m                           FutureWarning)\n\u001b[0;32m     72\u001b[0m         \u001b[0mkwargs\u001b[0m\u001b[1;33m.\u001b[0m\u001b[0mupdate\u001b[0m\u001b[1;33m(\u001b[0m\u001b[1;33m{\u001b[0m\u001b[0mk\u001b[0m\u001b[1;33m:\u001b[0m \u001b[0marg\u001b[0m \u001b[1;32mfor\u001b[0m \u001b[0mk\u001b[0m\u001b[1;33m,\u001b[0m \u001b[0marg\u001b[0m \u001b[1;32min\u001b[0m \u001b[0mzip\u001b[0m\u001b[1;33m(\u001b[0m\u001b[0msig\u001b[0m\u001b[1;33m.\u001b[0m\u001b[0mparameters\u001b[0m\u001b[1;33m,\u001b[0m \u001b[0margs\u001b[0m\u001b[1;33m)\u001b[0m\u001b[1;33m}\u001b[0m\u001b[1;33m)\u001b[0m\u001b[1;33m\u001b[0m\u001b[1;33m\u001b[0m\u001b[0m\n\u001b[1;32m---> 73\u001b[1;33m         \u001b[1;32mreturn\u001b[0m \u001b[0mf\u001b[0m\u001b[1;33m(\u001b[0m\u001b[1;33m**\u001b[0m\u001b[0mkwargs\u001b[0m\u001b[1;33m)\u001b[0m\u001b[1;33m\u001b[0m\u001b[1;33m\u001b[0m\u001b[0m\n\u001b[0m\u001b[0;32m     74\u001b[0m     \u001b[1;32mreturn\u001b[0m \u001b[0minner_f\u001b[0m\u001b[1;33m\u001b[0m\u001b[1;33m\u001b[0m\u001b[0m\n\u001b[0;32m     75\u001b[0m \u001b[1;33m\u001b[0m\u001b[0m\n",
      "\u001b[1;32mD:\\Anaconda\\envs\\santander\\lib\\site-packages\\sklearn\\utils\\validation.py\u001b[0m in \u001b[0;36mcheck_array\u001b[1;34m(array, accept_sparse, accept_large_sparse, dtype, order, copy, force_all_finite, ensure_2d, allow_nd, ensure_min_samples, ensure_min_features, estimator)\u001b[0m\n\u001b[0;32m    597\u001b[0m                     \u001b[0marray\u001b[0m \u001b[1;33m=\u001b[0m \u001b[0marray\u001b[0m\u001b[1;33m.\u001b[0m\u001b[0mastype\u001b[0m\u001b[1;33m(\u001b[0m\u001b[0mdtype\u001b[0m\u001b[1;33m,\u001b[0m \u001b[0mcasting\u001b[0m\u001b[1;33m=\u001b[0m\u001b[1;34m\"unsafe\"\u001b[0m\u001b[1;33m,\u001b[0m \u001b[0mcopy\u001b[0m\u001b[1;33m=\u001b[0m\u001b[1;32mFalse\u001b[0m\u001b[1;33m)\u001b[0m\u001b[1;33m\u001b[0m\u001b[1;33m\u001b[0m\u001b[0m\n\u001b[0;32m    598\u001b[0m                 \u001b[1;32melse\u001b[0m\u001b[1;33m:\u001b[0m\u001b[1;33m\u001b[0m\u001b[1;33m\u001b[0m\u001b[0m\n\u001b[1;32m--> 599\u001b[1;33m                     \u001b[0marray\u001b[0m \u001b[1;33m=\u001b[0m \u001b[0mnp\u001b[0m\u001b[1;33m.\u001b[0m\u001b[0masarray\u001b[0m\u001b[1;33m(\u001b[0m\u001b[0marray\u001b[0m\u001b[1;33m,\u001b[0m \u001b[0morder\u001b[0m\u001b[1;33m=\u001b[0m\u001b[0morder\u001b[0m\u001b[1;33m,\u001b[0m \u001b[0mdtype\u001b[0m\u001b[1;33m=\u001b[0m\u001b[0mdtype\u001b[0m\u001b[1;33m)\u001b[0m\u001b[1;33m\u001b[0m\u001b[1;33m\u001b[0m\u001b[0m\n\u001b[0m\u001b[0;32m    600\u001b[0m             \u001b[1;32mexcept\u001b[0m \u001b[0mComplexWarning\u001b[0m\u001b[1;33m:\u001b[0m\u001b[1;33m\u001b[0m\u001b[1;33m\u001b[0m\u001b[0m\n\u001b[0;32m    601\u001b[0m                 raise ValueError(\"Complex data not supported\\n\"\n",
      "\u001b[1;32mD:\\Anaconda\\envs\\santander\\lib\\site-packages\\numpy\\core\\_asarray.py\u001b[0m in \u001b[0;36masarray\u001b[1;34m(a, dtype, order)\u001b[0m\n\u001b[0;32m     83\u001b[0m \u001b[1;33m\u001b[0m\u001b[0m\n\u001b[0;32m     84\u001b[0m     \"\"\"\n\u001b[1;32m---> 85\u001b[1;33m     \u001b[1;32mreturn\u001b[0m \u001b[0marray\u001b[0m\u001b[1;33m(\u001b[0m\u001b[0ma\u001b[0m\u001b[1;33m,\u001b[0m \u001b[0mdtype\u001b[0m\u001b[1;33m,\u001b[0m \u001b[0mcopy\u001b[0m\u001b[1;33m=\u001b[0m\u001b[1;32mFalse\u001b[0m\u001b[1;33m,\u001b[0m \u001b[0morder\u001b[0m\u001b[1;33m=\u001b[0m\u001b[0morder\u001b[0m\u001b[1;33m)\u001b[0m\u001b[1;33m\u001b[0m\u001b[1;33m\u001b[0m\u001b[0m\n\u001b[0m\u001b[0;32m     86\u001b[0m \u001b[1;33m\u001b[0m\u001b[0m\n\u001b[0;32m     87\u001b[0m \u001b[1;33m\u001b[0m\u001b[0m\n",
      "\u001b[1;31mValueError\u001b[0m: could not convert string to float: 'N'"
     ]
    }
   ],
   "source": [
    "dico = MiniBatchDictionaryLearning(n_components=20,alpha=0.7, n_iter=1000,transform_algorithm='lasso_lars')\n",
    "dico.fit()"
   ]
  },
  {
   "cell_type": "code",
   "execution_count": 125,
   "metadata": {},
   "outputs": [
    {
     "data": {
      "text/plain": [
       "array([[280596, 'N', 'ES', ..., 0.0, 156417.69, '02 - PARTICULARES'],\n",
       "       [827766, 'N', 'ES', ..., 0.0, 98787.95999999999,\n",
       "        '02 - PARTICULARES'],\n",
       "       [1175262, 'N', 'ES', ..., 0.0, 98787.95999999999,\n",
       "        '02 - PARTICULARES'],\n",
       "       ...,\n",
       "       [573146, 'N', 'ES', ..., 0.0, 153005.13, '02 - PARTICULARES'],\n",
       "       [136173, 'N', 'ES', ..., 1.0, 98787.95999999999,\n",
       "        '02 - PARTICULARES'],\n",
       "       [1039102, 'N', 'ES', ..., 1.0, 98787.95999999999,\n",
       "        '02 - PARTICULARES']], dtype=object)"
      ]
     },
     "execution_count": 125,
     "metadata": {},
     "output_type": "execute_result"
    }
   ],
   "source": []
  },
  {
   "cell_type": "code",
   "execution_count": null,
   "metadata": {},
   "outputs": [],
   "source": [
    "valid_reco = []\n",
    "for idx,item in enumerate(forUser10):\n",
    "    if(item>0.5):\n",
    "        valid_reco.append([cols[idx],item])"
   ]
  },
  {
   "cell_type": "code",
   "execution_count": null,
   "metadata": {},
   "outputs": [],
   "source": [
    "valid_reco_list=[el[1] for el in valid_reco]\n",
    "valid_reco_columns=[el[0] for el in valid_reco]"
   ]
  },
  {
   "cell_type": "code",
   "execution_count": null,
   "metadata": {},
   "outputs": [],
   "source": [
    "print(forUser10)\n",
    "# print(valid_reco_columns[])\n",
    "np.array(valid_reco_columns)[np.argsort(valid_reco_list)[::-1][:7]]"
   ]
  },
  {
   "cell_type": "code",
   "execution_count": null,
   "metadata": {},
   "outputs": [],
   "source": [
    "batch_2 = df[df[\"fecha_dato\"]==\"2016-05-28\"].copy()\n",
    "batch_2[df[\"ncodpers\"]==657790][cols]"
   ]
  },
  {
   "cell_type": "code",
   "execution_count": null,
   "metadata": {},
   "outputs": [],
   "source": [
    "batch_1.iloc[0]"
   ]
  },
  {
   "cell_type": "code",
   "execution_count": null,
   "metadata": {},
   "outputs": [],
   "source": [
    ".dot(Y[0])"
   ]
  },
  {
   "cell_type": "markdown",
   "metadata": {
    "_cell_guid": "51cfa3e9-cdb6-a949-ef3c-7f282ccda69b"
   },
   "source": [
    "Convert the feature columns into integer values (you'll see why in a second), and we're done cleaning"
   ]
  },
  {
   "cell_type": "code",
   "execution_count": null,
   "metadata": {
    "_cell_guid": "2785dd85-e477-c2ca-b726-03fa317e32c2"
   },
   "outputs": [],
   "source": [
    "feature_cols = df.iloc[:1,].filter(regex=\"ind_+.*ult.*\").columns.values\n",
    "# for col in feature_cols:\n",
    "#     df[col] = df[col].astype(int)"
   ]
  },
  {
   "cell_type": "code",
   "execution_count": null,
   "metadata": {},
   "outputs": [],
   "source": [
    "len(feature_cols)"
   ]
  },
  {
   "cell_type": "markdown",
   "metadata": {
    "_cell_guid": "170d7959-9731-5fe4-b2ca-9fb4b81b3005"
   },
   "source": [
    "Now for the main event. To study trends in customers adding or removing services, I will create a label for each product and month that indicates whether a customer added, dropped or maintained that service in that billing cycle. I will do this by assigning a numeric id to each unique time stamp, and then matching each entry with the one from the previous month. The difference in the indicator value for each product then gives the desired value.  "
   ]
  },
  {
   "cell_type": "code",
   "execution_count": null,
   "metadata": {
    "_cell_guid": "684f824a-e5a5-abbc-4082-350b453e9a14"
   },
   "outputs": [],
   "source": [
    "unique_months = pd.DataFrame(pd.Series(df.fecha_dato.unique()).sort_values()).reset_index(drop=True)\n",
    "unique_months[\"month_id\"] = pd.Series(range(1,1+unique_months.size)) # start with month 1, not 0 to match what we already have\n",
    "unique_months[\"month_next_id\"] = 1 + unique_months[\"month_id\"]\n",
    "unique_months.rename(columns={0:\"fecha_dato\"},inplace=True)\n",
    "df = pd.merge(df,unique_months,on=\"fecha_dato\")"
   ]
  },
  {
   "cell_type": "markdown",
   "metadata": {
    "_cell_guid": "1ee1e571-0483-a2f3-3804-5f2576bf4536"
   },
   "source": [
    "Now I'll build a function that will convert differences month to month into a meaningful label. Each month, a customer can either maintain their current status with a particular product, add it, or drop it."
   ]
  },
  {
   "cell_type": "code",
   "execution_count": null,
   "metadata": {
    "_cell_guid": "659fc59d-dc8f-a4e6-eefd-a172b9577298"
   },
   "outputs": [],
   "source": [
    "def status_change(x):\n",
    "    diffs = x.diff().fillna(0)# first occurrence will be considered Maintained, \n",
    "    #which is a little lazy. A better way would be to check if \n",
    "    #the earliest date was the same as the earliest we have in the dataset\n",
    "    #and consider those separately. Entries with earliest dates later than that have \n",
    "    #joined and should be labeled as \"Added\"\n",
    "    label = [\"Added\" if i==1 \\\n",
    "         else \"Dropped\" if i==-1 \\\n",
    "         else \"Maintained\" for i in diffs]\n",
    "    return label"
   ]
  },
  {
   "cell_type": "markdown",
   "metadata": {
    "_cell_guid": "88d69db7-acce-6278-923a-4da1f35f3a73"
   },
   "source": [
    "Now we can actually apply this function to each features using `groupby` followed by `transform` to broadcast the result back"
   ]
  },
  {
   "cell_type": "code",
   "execution_count": null,
   "metadata": {
    "_cell_guid": "10f17b58-f5b6-bb7b-b822-c1c6db4d09e7"
   },
   "outputs": [],
   "source": [
    "# df.loc[:, feature_cols] = df..groupby(\"ncodpers\").apply(status_change)\n",
    "df.loc[:, feature_cols] = df.loc[:, [i for i in feature_cols]+[\"ncodpers\"]].groupby(\"ncodpers\").transform(status_change)"
   ]
  },
  {
   "cell_type": "markdown",
   "metadata": {
    "_cell_guid": "21bba2fd-d0c4-8e1f-63de-0fe876f4e52e"
   },
   "source": [
    "I'm only interested in seeing what influences people adding or removing services, so I'll trim away any instances of \"Maintained\"."
   ]
  },
  {
   "cell_type": "code",
   "execution_count": null,
   "metadata": {
    "_cell_guid": "6ec85399-7147-45fb-97ac-cd4b3f197e01"
   },
   "outputs": [],
   "source": [
    "df = pd.melt(df, id_vars   = [col for col in df.columns if col not in feature_cols],\n",
    "            value_vars= [col for col in feature_cols])\n",
    "df = df.loc[df.value!=\"Maintained\",:]\n",
    "df.shape"
   ]
  },
  {
   "cell_type": "code",
   "execution_count": null,
   "metadata": {},
   "outputs": [],
   "source": [
    "df.iloc[0]"
   ]
  },
  {
   "cell_type": "markdown",
   "metadata": {
    "_cell_guid": "f81baa4c-7ae8-9977-d82f-31ec937bac2b"
   },
   "source": [
    "And we're done! I hope you found this useful, and if you want to checkout the rest of visualizations I made you can find them [here](https://www.kaggle.com/apryor6/santander-product-recommendation/detailed-cleaning-visualization)."
   ]
  },
  {
   "cell_type": "code",
   "execution_count": null,
   "metadata": {
    "_cell_guid": "722ba4e2-01e8-385e-bf23-662fd908d496"
   },
   "outputs": [],
   "source": [
    "# For thumbnail\n",
    "pylab.rcParams['figure.figsize'] = (6, 4)\n",
    "# with sns.axes_style({\n",
    "#         \"axes.facecolor\":   \"#ffc400\",\n",
    "#         \"axes.grid\"     :    False,\n",
    "#         \"figure.facecolor\": \"#c60b1e\"}):\n",
    "#     h = sns.factorplot(data=incomes,\n",
    "#                    x=\"nomprov\",\n",
    "#                    y=(\"renta\",\"MedianIncome\"),\n",
    "#                    order=(i for i in incomes.nomprov),\n",
    "#                    size=6,\n",
    "#                    aspect=1.5,\n",
    "#                    scale=0.75,\n",
    "#                    color=\"#c60b1e\",\n",
    "#                    linestyles=\"None\")\n",
    "# plt.xticks(rotation=90)\n",
    "# plt.tick_params(labelsize=12,labelcolor=\"#ffc400\")#\n",
    "# plt.ylabel(\"Median Income\",size=32,color=\"#ffc400\")\n",
    "# plt.xlabel(\"City\",size=32,color=\"#ffc400\")\n",
    "# plt.title(\"Income Distribution by City\",size=40,color=\"#ffc400\")\n",
    "# plt.ylim(0,180000)\n",
    "# plt.yticks(range(0,180000,40000))\n",
    "sns.relplot(data=incomes,x='nomprov',y='renta',hue='MedianIncome', aspect=2)\n",
    "plt.xticks(rotation=90)\n",
    "plt.tick_params(labelsize=14)#\n",
    "plt.ylabel(\"Median Income\",size=20)\n",
    "plt.xlabel(\"City\",size=20)\n",
    "plt.title(\"Income Distribution by City\",size=30)\n",
    "plt.ylim(0,180000)\n",
    "plt.yticks(range(0,180000,40000))\n",
    "plt.grid(False)"
   ]
  }
 ],
 "metadata": {
  "_change_revision": 0,
  "_is_fork": false,
  "kernelspec": {
   "display_name": "santander",
   "language": "python",
   "name": "santander"
  },
  "language_info": {
   "codemirror_mode": {
    "name": "ipython",
    "version": 3
   },
   "file_extension": ".py",
   "mimetype": "text/x-python",
   "name": "python",
   "nbconvert_exporter": "python",
   "pygments_lexer": "ipython3",
   "version": "3.8.3"
  }
 },
 "nbformat": 4,
 "nbformat_minor": 4
}
