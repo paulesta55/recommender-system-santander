{
 "cells": [
  {
   "cell_type": "code",
   "execution_count": 37,
   "metadata": {},
   "outputs": [],
   "source": [
    "import numpy as np\n",
    "import pandas as pd\n",
    "import seaborn as sns\n",
    "import matplotlib.pyplot as plt"
   ]
  },
  {
   "cell_type": "code",
   "execution_count": 2,
   "metadata": {},
   "outputs": [
    {
     "name": "stderr",
     "output_type": "stream",
     "text": [
      "D:\\Anaconda\\envs\\santander\\lib\\site-packages\\IPython\\core\\interactiveshell.py:3062: DtypeWarning: Columns (15) have mixed types.Specify dtype option on import or set low_memory=False.\n",
      "  has_raised = await self.run_ast_nodes(code_ast.body, cell_name,\n"
     ]
    }
   ],
   "source": [
    "df_test = pd.read_csv(\"test_ver2.csv\",dtype={\"sexo\":str,\"ind_nuevo\":str,\"ult_fec_cli_1t\":str,\"indext\":str})"
   ]
  },
  {
   "cell_type": "code",
   "execution_count": 38,
   "metadata": {},
   "outputs": [],
   "source": [
    "target_cols = ['ind_ahor_fin_ult1','ind_aval_fin_ult1','ind_cco_fin_ult1','ind_cder_fin_ult1','ind_cno_fin_ult1','ind_ctju_fin_ult1','ind_ctma_fin_ult1','ind_ctop_fin_ult1','ind_ctpp_fin_ult1','ind_deco_fin_ult1','ind_deme_fin_ult1','ind_dela_fin_ult1','ind_ecue_fin_ult1','ind_fond_fin_ult1','ind_hip_fin_ult1','ind_plan_fin_ult1','ind_pres_fin_ult1','ind_reca_fin_ult1','ind_tjcr_fin_ult1','ind_valo_fin_ult1','ind_viv_fin_ult1','ind_nomina_ult1','ind_nom_pens_ult1','ind_recibo_ult1']\n",
    "target_cols = target_cols[2:]"
   ]
  },
  {
   "cell_type": "code",
   "execution_count": 1,
   "metadata": {},
   "outputs": [
    {
     "ename": "ModuleNotFoundError",
     "evalue": "No module named 'xgboost'",
     "output_type": "error",
     "traceback": [
      "\u001b[1;31m---------------------------------------------------------------------------\u001b[0m",
      "\u001b[1;31mModuleNotFoundError\u001b[0m                       Traceback (most recent call last)",
      "\u001b[1;32m<ipython-input-1-5943d1bfe3f1>\u001b[0m in \u001b[0;36m<module>\u001b[1;34m\u001b[0m\n\u001b[1;32m----> 1\u001b[1;33m \u001b[1;32mimport\u001b[0m \u001b[0mxgboost\u001b[0m \u001b[1;32mas\u001b[0m \u001b[0mxgb\u001b[0m\u001b[1;33m\u001b[0m\u001b[1;33m\u001b[0m\u001b[0m\n\u001b[0m",
      "\u001b[1;31mModuleNotFoundError\u001b[0m: No module named 'xgboost'"
     ]
    }
   ],
   "source": [
    "import xgboost as xgb"
   ]
  },
  {
   "cell_type": "code",
   "execution_count": 3,
   "metadata": {},
   "outputs": [
    {
     "name": "stderr",
     "output_type": "stream",
     "text": [
      "13647309it [02:57, 76928.20it/s] \n",
      "0it [00:00, ?it/s]"
     ]
    },
    {
     "name": "stdout",
     "output_type": "stream",
     "text": [
      "[ 0  1  2  3  4  5  6  7  8  9 10 11 12 13 14 15 16 17 18 19 20 21]\n",
      "(45679, 40) (45679,)\n",
      "0:02:57.638015\n"
     ]
    },
    {
     "name": "stderr",
     "output_type": "stream",
     "text": [
      "929615it [00:21, 43742.92it/s]\n"
     ]
    }
   ],
   "source": [
    "import csv\n",
    "import datetime\n",
    "from operator import sub\n",
    "import numpy as np\n",
    "import pandas as pd\n",
    "from sklearn import preprocessing, ensemble\n",
    "from tqdm import tqdm\n",
    "\n",
    "mapping_dict = {\n",
    "'ind_empleado'  : {-99:0, 'N':1, 'B':2, 'F':3, 'A':4, 'S':5},\n",
    "'sexo'          : {'V':0, 'H':1, -99:2},\n",
    "'ind_nuevo'     : {'0':0, '1':1, -99:2},\n",
    "'indrel'        : {'1':0, '99':1, -99:2},\n",
    "'indrel_1mes'   : {-99:0, '1.0':1, '1':1, '2.0':2, '2':2, '3.0':3, '3':3, '4.0':4, '4':4, 'P':5},\n",
    "'tiprel_1mes'   : {-99:0, 'I':1, 'A':2, 'P':3, 'R':4, 'N':5},\n",
    "'indresi'       : {-99:0, 'S':1, 'N':2},\n",
    "'indext'        : {-99:0, 'S':1, 'N':2},\n",
    "'conyuemp'      : {-99:0, 'S':1, 'N':2},\n",
    "'indfall'       : {-99:0, 'S':1, 'N':2},\n",
    "'tipodom'       : {-99:0, '1':1},\n",
    "'ind_actividad_cliente' : {'0':0, '1':1, -99:2},\n",
    "'segmento'      : {'02 - PARTICULARES':0, '03 - UNIVERSITARIO':1, '01 - TOP':2, -99:2},\n",
    "'pais_residencia' : {'LV': 102, 'BE': 12, 'BG': 50, 'BA': 61, 'BM': 117, 'BO': 62, 'JP': 82, 'JM': 116, 'BR': 17, 'BY': 64, 'BZ': 113, 'RU': 43, 'RS': 89, 'RO': 41, 'GW': 99, 'GT': 44, 'GR': 39, 'GQ': 73, 'GE': 78, 'GB': 9, 'GA': 45, 'GN': 98, 'GM': 110, 'GI': 96, 'GH': 88, 'OM': 100, 'HR': 67, 'HU': 106, 'HK': 34, 'HN': 22, 'AD': 35, 'PR': 40, 'PT': 26, 'PY': 51, 'PA': 60, 'PE': 20, 'PK': 84, 'PH': 91, 'PL': 30, 'EE': 52, 'EG': 74, 'ZA': 75, 'EC': 19, 'AL': 25, 'VN': 90, 'ET': 54, 'ZW': 114, 'ES': 0, 'MD': 68, 'UY': 77, 'MM': 94, 'ML': 104, 'US': 15, 'MT': 118, 'MR': 48, 'UA': 49, 'MX': 16, 'IL': 42, 'FR': 8, 'MA': 38, 'FI': 23, 'NI': 33, 'NL': 7, 'NO': 46, 'NG': 83, 'NZ': 93, 'CI': 57, 'CH': 3, 'CO': 21, 'CN': 28, 'CM': 55, 'CL': 4, 'CA': 2, 'CG': 101, 'CF': 109, 'CD': 112, 'CZ': 36, 'CR': 32, 'CU': 72, 'KE': 65, 'KH': 95, 'SV': 53, 'SK': 69, 'KR': 87, 'KW': 92, 'SN': 47, 'SL': 97, 'KZ': 111, 'SA': 56, 'SG': 66, 'SE': 24, 'DO': 11, 'DJ': 115, 'DK': 76, 'DE': 10, 'DZ': 80, 'MK': 105, -99: 1, 'LB': 81, 'TW': 29, 'TR': 70, 'TN': 85, 'LT': 103, 'LU': 59, 'TH': 79, 'TG': 86, 'LY': 108, 'AE': 37, 'VE': 14, 'IS': 107, 'IT': 18, 'AO': 71, 'AR': 13, 'AU': 63, 'AT': 6, 'IN': 31, 'IE': 5, 'QA': 58, 'MZ': 27},\n",
    "'canal_entrada' : {'013': 49, 'KHP': 160, 'KHQ': 157, 'KHR': 161, 'KHS': 162, 'KHK': 10, 'KHL': 0, 'KHM': 12, 'KHN': 21, 'KHO': 13, 'KHA': 22, 'KHC': 9, 'KHD': 2, 'KHE': 1, 'KHF': 19, '025': 159, 'KAC': 57, 'KAB': 28, 'KAA': 39, 'KAG': 26, 'KAF': 23, 'KAE': 30, 'KAD': 16, 'KAK': 51, 'KAJ': 41, 'KAI': 35, 'KAH': 31, 'KAO': 94, 'KAN': 110, 'KAM': 107, 'KAL': 74, 'KAS': 70, 'KAR': 32, 'KAQ': 37, 'KAP': 46, 'KAW': 76, 'KAV': 139, 'KAU': 142, 'KAT': 5, 'KAZ': 7, 'KAY': 54, 'KBJ': 133, 'KBH': 90, 'KBN': 122, 'KBO': 64, 'KBL': 88, 'KBM': 135, 'KBB': 131, 'KBF': 102, 'KBG': 17, 'KBD': 109, 'KBE': 119, 'KBZ': 67, 'KBX': 116, 'KBY': 111, 'KBR': 101, 'KBS': 118, 'KBP': 121, 'KBQ': 62, 'KBV': 100, 'KBW': 114, 'KBU': 55, 'KCE': 86, 'KCD': 85, 'KCG': 59, 'KCF': 105, 'KCA': 73, 'KCC': 29, 'KCB': 78, 'KCM': 82, 'KCL': 53, 'KCO': 104, 'KCN': 81, 'KCI': 65, 'KCH': 84, 'KCK': 52, 'KCJ': 156, 'KCU': 115, 'KCT': 112, 'KCV': 106, 'KCQ': 154, 'KCP': 129, 'KCS': 77, 'KCR': 153, 'KCX': 120, 'RED': 8, 'KDL': 158, 'KDM': 130, 'KDN': 151, 'KDO': 60, 'KDH': 14, 'KDI': 150, 'KDD': 113, 'KDE': 47, 'KDF': 127, 'KDG': 126, 'KDA': 63, 'KDB': 117, 'KDC': 75, 'KDX': 69, 'KDY': 61, 'KDZ': 99, 'KDT': 58, 'KDU': 79, 'KDV': 91, 'KDW': 132, 'KDP': 103, 'KDQ': 80, 'KDR': 56, 'KDS': 124, 'K00': 50, 'KEO': 96, 'KEN': 137, 'KEM': 155, 'KEL': 125, 'KEK': 145, 'KEJ': 95, 'KEI': 97, 'KEH': 15, 'KEG': 136, 'KEF': 128, 'KEE': 152, 'KED': 143, 'KEC': 66, 'KEB': 123, 'KEA': 89, 'KEZ': 108, 'KEY': 93, 'KEW': 98, 'KEV': 87, 'KEU': 72, 'KES': 68, 'KEQ': 138, -99: 6, 'KFV': 48, 'KFT': 92, 'KFU': 36, 'KFR': 144, 'KFS': 38, 'KFP': 40, 'KFF': 45, 'KFG': 27, 'KFD': 25, 'KFE': 148, 'KFB': 146, 'KFC': 4, 'KFA': 3, 'KFN': 42, 'KFL': 34, 'KFM': 141, 'KFJ': 33, 'KFK': 20, 'KFH': 140, 'KFI': 134, '007': 71, '004': 83, 'KGU': 149, 'KGW': 147, 'KGV': 43, 'KGY': 44, 'KGX': 24, 'KGC': 18, 'KGN': 11}\n",
    "}\n",
    "cat_cols = list(mapping_dict.keys())\n",
    "\n",
    "target_cols = ['ind_ahor_fin_ult1','ind_aval_fin_ult1','ind_cco_fin_ult1','ind_cder_fin_ult1','ind_cno_fin_ult1','ind_ctju_fin_ult1','ind_ctma_fin_ult1','ind_ctop_fin_ult1','ind_ctpp_fin_ult1','ind_deco_fin_ult1','ind_deme_fin_ult1','ind_dela_fin_ult1','ind_ecue_fin_ult1','ind_fond_fin_ult1','ind_hip_fin_ult1','ind_plan_fin_ult1','ind_pres_fin_ult1','ind_reca_fin_ult1','ind_tjcr_fin_ult1','ind_valo_fin_ult1','ind_viv_fin_ult1','ind_nomina_ult1','ind_nom_pens_ult1','ind_recibo_ult1']\n",
    "target_cols = target_cols[2:]\n",
    "\n",
    "def getTarget(row):\n",
    "\ttlist = []\n",
    "\tfor col in target_cols:\n",
    "\t\tif row[col].strip() in ['', 'NA']:\n",
    "\t\t\ttarget = 0\n",
    "\t\telse:\n",
    "\t\t\ttarget = int(float(row[col]))\n",
    "\t\ttlist.append(target)\n",
    "\treturn tlist\n",
    "\n",
    "def getIndex(row, col):\n",
    "\tval = row[col].strip()\n",
    "\tif val not in ['','NA']:\n",
    "\t\tind = mapping_dict[col][val]\n",
    "\telse:\n",
    "\t\tind = mapping_dict[col][-99]\n",
    "\treturn ind\n",
    "\n",
    "def getAge(row):\n",
    "\tmean_age = 40.\n",
    "\tmin_age = 20.\n",
    "\tmax_age = 90.\n",
    "\trange_age = max_age - min_age\n",
    "\tage = row['age'].strip()\n",
    "\tif age == 'NA' or age == '':\n",
    "\t\tage = mean_age\n",
    "\telse:\n",
    "\t\tage = float(age)\n",
    "\t\tif age < min_age:\n",
    "\t\t\tage = min_age\n",
    "\t\telif age > max_age:\n",
    "\t\t\tage = max_age\n",
    "\treturn round( (age - min_age) / range_age, 4)\n",
    "\n",
    "def getCustSeniority(row):\n",
    "\tmin_value = 0.\n",
    "\tmax_value = 256.\n",
    "\trange_value = max_value - min_value\n",
    "\tmissing_value = 0.\n",
    "\tcust_seniority = row['antiguedad'].strip()\n",
    "\tif cust_seniority == 'NA' or cust_seniority == '':\n",
    "\t\tcust_seniority = missing_value\n",
    "\telse:\n",
    "\t\tcust_seniority = float(cust_seniority)\n",
    "\t\tif cust_seniority < min_value:\n",
    "\t\t\tcust_seniority = min_value\n",
    "\t\telif cust_seniority > max_value:\n",
    "\t\t\tcust_seniority = max_value\n",
    "\treturn round((cust_seniority-min_value) / range_value, 4)\n",
    "\n",
    "def getRent(row):\n",
    "\tmin_value = 0.\n",
    "\tmax_value = 1500000.\n",
    "\trange_value = max_value - min_value\n",
    "\tmissing_value = 101850.\n",
    "\trent = row['renta'].strip()\n",
    "\tif rent == 'NA' or rent == '':\n",
    "\t\trent = missing_value\n",
    "\telse:\n",
    "\t\trent = float(rent)\n",
    "\t\tif rent < min_value:\n",
    "\t\t\trent = min_value\n",
    "\t\telif rent > max_value:\n",
    "\t\t\trent = max_value\n",
    "\treturn round((rent-min_value) / range_value, 6)\n",
    "\n",
    "def processData(in_file_name, cust_dict):\n",
    "\tx_vars_list = []\n",
    "\ty_vars_list = []\n",
    "\tfor row in tqdm(csv.DictReader(in_file_name)):\n",
    "\t\t# use only the four months as specified by breakfastpirate #\n",
    "\t\tif row['fecha_dato'] not in ['2015-05-28', '2015-06-28', '2016-05-28', '2016-06-28']:\n",
    "\t\t\tcontinue\n",
    "\n",
    "\t\tcust_id = int(row['ncodpers'])\n",
    "\t\tif row['fecha_dato'] in ['2015-05-28', '2016-05-28']:\t\n",
    "\t\t\ttarget_list = getTarget(row)\n",
    "\t\t\tcust_dict[cust_id] =  target_list[:]\n",
    "\t\t\tcontinue\n",
    "\n",
    "\t\tx_vars = []\n",
    "\t\tfor col in cat_cols:\n",
    "\t\t\tx_vars.append( getIndex(row, col) )\n",
    "\t\tx_vars.append( getAge(row) )\n",
    "\t\tx_vars.append( getCustSeniority(row) )\n",
    "\t\tx_vars.append( getRent(row) )\n",
    "\n",
    "\t\tif row['fecha_dato'] == '2016-06-28':\n",
    "\t\t\tprev_target_list = cust_dict.get(cust_id, [0]*22)\n",
    "\t\t\tx_vars_list.append(x_vars + prev_target_list)\n",
    "\t\telif row['fecha_dato'] == '2015-06-28':\n",
    "\t\t\tprev_target_list = cust_dict.get(cust_id, [0]*22)\n",
    "\t\t\ttarget_list = getTarget(row)\n",
    "\t\t\tnew_products = [max(x1 - x2,0) for (x1, x2) in zip(target_list, prev_target_list)]\n",
    "\t\t\tif sum(new_products) > 0:\n",
    "\t\t\t\tfor ind, prod in enumerate(new_products):\n",
    "\t\t\t\t\tif prod>0:\n",
    "\t\t\t\t\t\tassert len(prev_target_list) == 22\n",
    "\t\t\t\t\t\tx_vars_list.append(x_vars+prev_target_list)\n",
    "\t\t\t\t\t\ty_vars_list.append(ind)\n",
    "\n",
    "\treturn x_vars_list, y_vars_list, cust_dict\n",
    "\n",
    "\n",
    "\n",
    "start_time = datetime.datetime.now()\n",
    "train_file =  open(\"train_ver2.csv\")\n",
    "x_vars_list, y_vars_list, cust_dict = processData(train_file, {})\n",
    "train_X = np.array(x_vars_list)\n",
    "train_y = np.array(y_vars_list)\n",
    "print(np.unique(train_y))\n",
    "del x_vars_list, y_vars_list\n",
    "train_file.close()\n",
    "print(train_X.shape, train_y.shape)\n",
    "print(datetime.datetime.now()-start_time)\n",
    "test_file = open(\"test_ver2.csv\")\n",
    "x_vars_list, y_vars_list, cust_dict = processData(test_file, cust_dict)"
   ]
  },
  {
   "cell_type": "code",
   "execution_count": 4,
   "metadata": {},
   "outputs": [],
   "source": [
    "x_vars = np.array(x_vars_list)\n",
    "y_vars = np.array(y_vars_list)"
   ]
  },
  {
   "cell_type": "code",
   "execution_count": 19,
   "metadata": {},
   "outputs": [
    {
     "data": {
      "text/plain": [
       "array([ 0, 21, 19, ..., 21, 16, 15])"
      ]
     },
     "execution_count": 19,
     "metadata": {},
     "output_type": "execute_result"
    }
   ],
   "source": [
    "train_y"
   ]
  },
  {
   "cell_type": "code",
   "execution_count": 52,
   "metadata": {},
   "outputs": [
    {
     "name": "stderr",
     "output_type": "stream",
     "text": [
      "D:\\Anaconda\\envs\\santander\\lib\\site-packages\\sklearn\\model_selection\\_split.py:670: UserWarning: The least populated class in y has only 3 members, which is less than n_splits=5.\n",
      "  warnings.warn((\"The least populated class in y has only %d\"\n"
     ]
    },
    {
     "name": "stdout",
     "output_type": "stream",
     "text": [
      "done in 3.6502037048339844\n"
     ]
    }
   ],
   "source": [
    "from sklearn.model_selection import train_test_split\n",
    "from sklearn.svm import SVC\n",
    "from sklearn.ensemble import RandomForestClassifier\n",
    "from sklearn.linear_model import LogisticRegression, RidgeClassifierCV\n",
    "from sklearn.multioutput import MultiOutputClassifier\n",
    "from time import time\n",
    "\n",
    "# xtrain, xtest, ytrain, ytest=train_test_split(X_cls,Y_cls, train_size=0.8, random_state=0)\n",
    "# svc = SVC(gamma=\"scale\", verbose=True)\n",
    "# reg = LogisticRegression(random_state=0, verbose=1)\n",
    "# model = RandomForestClassifier(max_depth=6, random_state=0, n_jobs=2, verbose=1)\n",
    "t0 = time()\n",
    "# model = MultiOutputClassifier(estimator=clf)\n",
    "model =RidgeClassifierCV(cv=5)\n",
    "model.fit(train_X, train_y)\n",
    "dt = time() - t0\n",
    "print(\"done in {}\".format(dt))"
   ]
  },
  {
   "cell_type": "code",
   "execution_count": 53,
   "metadata": {},
   "outputs": [
    {
     "data": {
      "text/plain": [
       "10.0"
      ]
     },
     "execution_count": 53,
     "metadata": {},
     "output_type": "execute_result"
    }
   ],
   "source": [
    "model.alpha_"
   ]
  },
  {
   "cell_type": "code",
   "execution_count": 26,
   "metadata": {},
   "outputs": [],
   "source": [
    "probas = model.decision_function(x_vars)"
   ]
  },
  {
   "cell_type": "code",
   "execution_count": 29,
   "metadata": {},
   "outputs": [
    {
     "data": {
      "text/plain": [
       "0.5219247356553339"
      ]
     },
     "execution_count": 29,
     "metadata": {},
     "output_type": "execute_result"
    }
   ],
   "source": [
    "model.score(train_X, train_y)"
   ]
  },
  {
   "cell_type": "code",
   "execution_count": 27,
   "metadata": {},
   "outputs": [
    {
     "data": {
      "text/plain": [
       "array([-0.63774332, -0.99778934, -0.92966018, -1.00236276, -0.97295598,\n",
       "       -0.97504269, -0.99588045, -0.94345963, -1.00041679, -0.92489637,\n",
       "       -0.95533513, -0.99308255, -0.98328065, -0.99749967, -0.99680428,\n",
       "       -0.80375653, -1.20300773, -1.00740144, -0.9996206 , -1.02933477,\n",
       "       -0.74505018,  0.09438102])"
      ]
     },
     "execution_count": 27,
     "metadata": {},
     "output_type": "execute_result"
    }
   ],
   "source": [
    "probas[0]"
   ]
  },
  {
   "cell_type": "code",
   "execution_count": 36,
   "metadata": {},
   "outputs": [
    {
     "name": "stdout",
     "output_type": "stream",
     "text": [
      "      Iter       Train Loss      OOB Improve   Remaining Time \n",
      "         1       43719.2718         261.6058           25.30m\n",
      "         2       43331.2487         265.2419           27.18m\n",
      "         3       43245.4887         216.6919           27.52m\n",
      "         4       42876.7016         220.5335           27.62m\n",
      "         5       42504.1513         241.8118           27.73m\n",
      "         6       42482.5891         213.7966           28.25m\n",
      "         7       42433.2100         192.4207           28.27m\n",
      "         8       42028.2745         221.3348           28.14m\n",
      "         9       41959.8554         200.4644           28.08m\n",
      "        10       41609.3405         198.8984           28.19m\n",
      "        20       39860.5168         170.7636           27.93m\n",
      "        30       38531.7754         127.8858           27.06m\n",
      "        40       37086.3627         102.8941           26.35m\n",
      "        50       36050.8671         100.2260           25.52m\n",
      "        60       35210.1563          79.8071           24.25m\n",
      "        70       34326.0832          76.1662           23.23m\n",
      "        80       33873.5734          64.7435           22.40m\n",
      "        90       33072.0761          49.7274           21.58m\n",
      "       100       32564.8482          39.9012           20.86m\n",
      "       200       29204.4942          17.5115           16.85m\n",
      "       300       28055.0163           7.4385           14.67m\n",
      "       400       27494.5388           3.3952           12.53m\n",
      "       500       26979.3102           1.7368           10.37m\n",
      "       600       26537.6620           0.4449            8.31m\n",
      "       700       26614.7389           0.6212            6.20m\n",
      "       800       26470.5479          -0.3970            4.14m\n",
      "       900       26126.0536          -0.8251            2.07m\n",
      "      1000       26129.4712          -1.1826            0.00s\n"
     ]
    },
    {
     "data": {
      "text/plain": [
       "GradientBoostingClassifier(learning_rate=0.01, max_depth=16, max_features=0.7,\n",
       "                           min_weight_fraction_leaf=0.1, n_estimators=1000,\n",
       "                           n_iter_no_change=50, random_state=0, subsample=0.5,\n",
       "                           verbose=1)"
      ]
     },
     "execution_count": 36,
     "metadata": {},
     "output_type": "execute_result"
    }
   ],
   "source": [
    "from sklearn.ensemble import GradientBoostingClassifier\n",
    "GB = GradientBoostingClassifier(random_state=0, verbose=1, learning_rate=0.01, min_weight_fraction_leaf=0.1, max_depth=16, subsample=0.5, max_features=0.7,n_iter_no_change=50, n_estimators=1000)\n",
    "GB.fit(train_X, train_y)"
   ]
  },
  {
   "cell_type": "code",
   "execution_count": 38,
   "metadata": {},
   "outputs": [],
   "source": [
    "probas = GB.predict_proba(x_vars)"
   ]
  },
  {
   "cell_type": "code",
   "execution_count": 39,
   "metadata": {},
   "outputs": [
    {
     "data": {
      "text/plain": [
       "0.5467501477703102"
      ]
     },
     "execution_count": 39,
     "metadata": {},
     "output_type": "execute_result"
    }
   ],
   "source": [
    "GB.score(train_X, train_y)"
   ]
  },
  {
   "cell_type": "code",
   "execution_count": 40,
   "metadata": {},
   "outputs": [],
   "source": [
    "probas = np.argsort(probas)[::-1][:,:7].astype(np.uint)\n",
    "\n",
    "test_id = np.array(pd.read_csv(\"test_ver2.csv\", usecols=['ncodpers'])['ncodpers'])\n",
    "# final_preds = [\" \".join(list(target_cols[pred])) for pred in probas]\n",
    "final_preds = [\" \".join([target_cols[p] for p in pred ]) for pred in probas]\n",
    "out_df = pd.DataFrame({'ncodpers':test_id, 'added_products':final_preds})\n",
    "out_df.to_csv('gb1000.csv', index=False)"
   ]
  },
  {
   "cell_type": "code",
   "execution_count": 57,
   "metadata": {},
   "outputs": [
    {
     "data": {
      "image/png": "[encoded data removed]",
      "text/plain": [
       "<Figure size 432x288 with 1 Axes>"
      ]
     },
     "metadata": {
      "needs_background": "light"
     },
     "output_type": "display_data"
    }
   ],
   "source": [
    "import matplotlib.pyplot as plt\n",
    "plt.plot([2,4,8, 10], [0.00305,0.00503,0.00472, 0.00375])\n",
    "plt.title(\"Dictionary Learning method. Mean Average Precision @ 7 as a function of $k$\")\n",
    "plt.ylabel(\"Mean Average Precision @ 7\")\n",
    "plt.xlabel(\"$k$\")\n",
    "plt.savefig(\"dico_k_rel.png\")"
   ]
  }
 ],
 "metadata": {
  "kernelspec": {
   "display_name": "santander",
   "language": "python",
   "name": "santander"
  },
  "language_info": {
   "codemirror_mode": {
    "name": "ipython",
    "version": 3
   },
   "file_extension": ".py",
   "mimetype": "text/x-python",
   "name": "python",
   "nbconvert_exporter": "python",
   "pygments_lexer": "ipython3",
   "version": "3.8.3"
  }
 },
 "nbformat": 4,
 "nbformat_minor": 4
}
